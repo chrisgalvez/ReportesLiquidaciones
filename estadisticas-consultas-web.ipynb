{
 "cells": [
  {
   "cell_type": "markdown",
   "metadata": {},
   "source": [
    "# ESTADISTICAS DEL SISTEMA DE CONSULTAS WEB\n"
   ]
  },
  {
   "cell_type": "code",
   "execution_count": null,
   "metadata": {},
   "outputs": [],
   "source": [
    "import pandas as pd\n",
    "import numpy as np\n",
    "import matplotlib as plt\n",
    "from sqlalchemy import engine\n",
    "\n",
    "engine = engine.create_engine('mssql+pyodbc://IPSDB-Replica/Noticias?driver=ODBC+Driver+17+for+SQL+Server')\n",
    "FECHA_DESDE = '2024-02-01'\n",
    "FECHA_HASTA = '2024-08-01'\n",
    "CATEGORIA = 4"
   ]
  },
  {
   "cell_type": "code",
   "execution_count": null,
   "metadata": {},
   "outputs": [],
   "source": [
    "consulta = f\"\"\"SELECT c.* FROM CONSULTAS C LEFT OUTER JOIN SUBCATEGORIA_CONSULTAS S \n",
    "ON S.CATEGORIA_ID=C.SUBCATEGORIA_ID LEFT OUTER JOIN CATEGORIAS CA \n",
    "ON CA.ID = S.CATEGORIA_ID WHERE C.created_at >= '{FECHA_DESDE}' AND C.created_at < '{FECHA_HASTA}'\"\"\"\n",
    "\n",
    "df = pd.read_sql(consulta, engine)"
   ]
  },
  {
   "cell_type": "code",
   "execution_count": null,
   "metadata": {},
   "outputs": [],
   "source": [
    "df[\"created_at\"] = df[\"created_at\"].astype(\"datetime64[ns]\")"
   ]
  },
  {
   "cell_type": "code",
   "execution_count": null,
   "metadata": {},
   "outputs": [],
   "source": [
    "import matplotlib.pyplot as plt\n",
    "\n",
    "mensual = df.groupby(df[\"created_at\"].dt.strftime(\"%m-%Y\")).count()\n",
    "\n",
    "plt.bar(x=mensual.index, height=mensual[\"id\"])"
   ]
  },
  {
   "cell_type": "code",
   "execution_count": null,
   "metadata": {},
   "outputs": [],
   "source": [
    "# mes actual\n",
    "\n",
    "# generar barras de consultas para el corriente mes\n",
    "\n",
    "df.groupby(pd.Grouper(key=\"created_at\", freq=\"M\")).count()\n"
   ]
  },
  {
   "cell_type": "code",
   "execution_count": null,
   "metadata": {},
   "outputs": [],
   "source": []
  }
 ],
 "metadata": {
  "kernelspec": {
   "display_name": ".venv",
   "language": "python",
   "name": "python3"
  },
  "language_info": {
   "codemirror_mode": {
    "name": "ipython",
    "version": 3
   },
   "file_extension": ".py",
   "mimetype": "text/x-python",
   "name": "python",
   "nbconvert_exporter": "python",
   "pygments_lexer": "ipython3",
   "version": "3.12.9"
  }
 },
 "nbformat": 4,
 "nbformat_minor": 2
}
