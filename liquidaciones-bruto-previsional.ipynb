{
 "cells": [
  {
   "cell_type": "code",
   "execution_count": null,
   "metadata": {
    "jupyter": {
     "source_hidden": true
    },
    "notebookRunGroups": {
     "groupValue": "1"
    }
   },
   "outputs": [],
   "source": [
    "\n",
    "import pandas as pd\n",
    "import numpy as np\n",
    "import sqlalchemy as sql\n",
    "from decouple import config\n",
    "import locale\n",
    "import seaborn as sns\n",
    "import matplotlib.pyplot as plt\n",
    "import tempfile\n",
    "\n",
    "pd.options.display.float_format = lambda x: '{:,.2f}'.format(x)\n",
    "\n",
    "# Establecemos el locale para usar el formato español \n",
    "# (o de otros países que usan punto para miles y coma para decimales)\n",
    "# locale.setlocale(locale=locale.LC_ALL, category='es_ES')\n",
    "\n",
    "engine: sql.Engine = sql.create_engine(f\"mssql+pyodbc://{config('SERVIDOR')}/Liquidacion?\"\n",
    "                           f\"driver=ODBC+Driver+17+for+SQL+Server\")\n",
    "engine_plus: sql.Engine = sql.create_engine(f\"mssql+pyodbc://{config('SERVIDOR_PLUS')}/\" \n",
    "                        f\"Liquidacion?driver=ODBC+Driver+17+for+SQL+Server\")\n",
    "engine_refuerzo: sql.Engine = sql.create_engine(f\"mssql+pyodbc://\"\n",
    "    f\"{config(\"SERVIDOR_REFUERZO\")}/Liquidacion?driver=\"\n",
    "    f\"ODBC+Driver+17+for+SQL+Server\"\"\")\n",
    "\n",
    "liquidacion  = config(\"LIQUIDACION\")\n",
    "\n",
    "meses_liq: list[str] = ['Enero', 'Febrero', 'Marzo', 'Abril', 'Mayo', 'Junio', 'Julio', \n",
    "    'Agosto', 'Septiembre', 'Octubre', 'Noviembre', 'Diciembre',\n",
    "    'Aguinaldo Junio', 'Aguinaldo Diciembre']\n",
    "\n",
    "mes_liquidacion = int(liquidacion[-2:])\n",
    "anio_liquidacion  = liquidacion[:4]\n",
    "titulo_liquidacion  = meses_liq[mes_liquidacion - 1] + \" de \" + anio_liquidacion\n",
    "\n"
   ]
  },
  {
   "cell_type": "code",
   "execution_count": null,
   "metadata": {
    "jupyter": {
     "source_hidden": true
    },
    "notebookRunGroups": {
     "groupValue": "1"
    }
   },
   "outputs": [],
   "source": [
    "from pandas import DataFrame\n",
    "\n",
    "\n",
    "cons_creditos = f\"\"\"SELECT L.PLLA, L.ORDEN, L.AFILIADO, SUM(MONTO) AS CREDITOS\n",
    "FROM [{liquidacion}].dbo.Liquidacion L\n",
    "INNER JOIN [{liquidacion}].dbo.Codigos C ON C.CODIGO=L.CODIGO\n",
    "INNER JOIN Liquidacion.dbo.Codigos C2 ON C2.CODIGO=L.CODIGO\n",
    "WHERE C.TIPO='C' AND C.CODIGO NOT IN ('05','07','0Y','00','01','0B','1Z','3Z','5Z','BC')\n",
    "GROUP BY L.PLLA, L.ORDEN, L.AFILIADO\"\"\".format(liquidacion)\n",
    "\n",
    "creditos: DataFrame = pd.read_sql(cons_creditos, engine)\n",
    "cons_beneficios: str = f\"\"\"SELECT DL.CONTROL, DL.PLLA, DL.ORDEN, DL.AFILIADO, D.SEXO,\n",
    "    DL.BENEFICIO, B.DETALLE AS BENEFICIO_TIPO, B.TIPO,\n",
    "    R.DETALLE AS REPARTICION, R.TIPOREPARTICION, L.LOCALIDAD, FNAC \n",
    "    FROM DATOSAFILIADO D  \n",
    "    LEFT OUTER JOIN BENEFICIO B ON B.COD=D.COD_BENEFICIO\n",
    "    LEFT OUTER JOIN REPARTICION R ON R.COD=D.LETRA\n",
    "    LEFT OUTER JOIN LOCALIDADES L ON D.CODLOCALIDAD=L.CODLOCALIDAD\n",
    "    INNER JOIN [{liquidacion}].dbo.DatosAfiliado DL on DL.CONTROL=D.CONTROL\"\"\".format(\n",
    "    liquidacion=liquidacion\n",
    ")\n",
    "\n",
    "beneficios: DataFrame = pd.read_sql(cons_beneficios, engine)\n",
    "brutos: DataFrame = beneficios.merge(\n",
    "    creditos, on=[\"PLLA\", \"ORDEN\", \"AFILIADO\"], how=\"left\"\n",
    ").fillna(0.0)\n",
    "\n",
    "brutos[\"BRUTO\"] = brutos[\"BENEFICIO\"] + brutos[\"CREDITOS\"]"
   ]
  },
  {
   "cell_type": "code",
   "execution_count": null,
   "metadata": {
    "jupyter": {
     "source_hidden": true
    }
   },
   "outputs": [],
   "source": [
    "# TIPOS REPARTICIONES - NORMALIZACION\n",
    "brutos[\"TIPOREPARTICION\"] = brutos[\"TIPOREPARTICION\"].replace({\n",
    "    \"AGUAS\": \"Aguas\",\n",
    "    \"NO\": \"Org.Desc.\",\n",
    "    \"MG\": \"Adm. Central\",\n",
    "    \"SP\": \"Salud Pública\",\n",
    "    \"AC\": \"Adm. Central\",\n",
    "    \"Legisladores\": \"P. Legislativo\",\n",
    "    \"DOC\": \"Docente\",\n",
    "    \"JUPOLICIA\": \"Policia\",\n",
    "    \"MOVILIDADES\": \"Otras leyes\",\n",
    "    \"Cautelares\": \"Otras leyes\",\n",
    "    \"Certificado\": \"Otras leyes\",\n",
    "    \"Especial\": \"Otras leyes\",\n",
    "})"
   ]
  },
  {
   "cell_type": "code",
   "execution_count": null,
   "metadata": {},
   "outputs": [],
   "source": [
    "brutos[\"TIPO\"] = brutos.apply(\n",
    "    lambda x: \"Retiros\"\n",
    "    if x[\"REPARTICION\"] in (\"Retiro Policial\", \"Retiro Carcelario\")\n",
    "    else \"Pensiones\"\n",
    "    if x[\"TIPO\"] == \"pen\"\n",
    "    else \"Jubilaciones\",\n",
    "    axis=1,\n",
    ")"
   ]
  },
  {
   "cell_type": "code",
   "execution_count": null,
   "metadata": {
    "jupyter": {
     "source_hidden": true
    },
    "notebookRunGroups": {
     "groupValue": "1"
    }
   },
   "outputs": [],
   "source": [
    "# CONVERTIR LA COLUMNA FNAC DE BRUTOS A FECHA\n",
    "\n",
    "brutos[\"FNAC\"] = pd.to_datetime(\n",
    "    brutos[\"FNAC\"], format=\"%d/%m/%Y\", errors=\"coerce\"\n",
    ")\n",
    "brutos[\"EDAD\"] = pd.to_datetime(\"today\") - brutos[\"FNAC\"]\n",
    "brutos[\"EDAD\"] = brutos[\"EDAD\"].dt.days / 365\n",
    "brutos[\"EDAD\"] = brutos[\"EDAD\"].astype(int, errors=\"ignore\")"
   ]
  },
  {
   "cell_type": "code",
   "execution_count": null,
   "metadata": {
    "jupyter": {
     "source_hidden": true
    },
    "notebookRunGroups": {
     "groupValue": "1"
    }
   },
   "outputs": [],
   "source": [
    "# SANITIZO LOCALIDADES\n",
    "brutos[\"LOCALIDAD\"] = brutos[\"LOCALIDAD\"].apply(\n",
    "    lambda x: \"SIN LOCALIDAD\" if x == 0 else x\n",
    ")\n",
    "brutos[\"LOCALIDAD\"] = brutos[\"LOCALIDAD\"].apply(\n",
    "    lambda x: \"SAN LUIS\\nDEL PALMAR\" if x == \"SAN LUIS DEL PALMAR\" else x\n",
    ")"
   ]
  },
  {
   "cell_type": "code",
   "execution_count": null,
   "metadata": {},
   "outputs": [],
   "source": [
    "import pandas as pd\n",
    "\n",
    "# Define el rango de brutos\n",
    "inicio = 0\n",
    "fin = 10000000\n",
    "paso_1 = 100000\n",
    "paso_2 = 1000000\n",
    "\n",
    "# Crea las listas de inicio y fin\n",
    "inicio_list = []\n",
    "fin_list = []\n",
    "\n",
    "# Agrega valores a las listas\n",
    "inicio_list.append(0)\n",
    "fin_list.append(250000)\n",
    "\n",
    "for i in range(250000, 1000000, paso_1):\n",
    "    inicio_list.append(i)\n",
    "    fin_list.append(i + paso_1)\n",
    "\n",
    "for i in range(1000000, fin, paso_2):\n",
    "    inicio_list.append(i)\n",
    "    fin_list.append(i + paso_2)\n",
    "\n",
    "# Elimina el último elemento de fin_list si es necesario\n",
    "if len(fin_list) > len(inicio_list):\n",
    "    fin_list.pop()\n",
    "\n",
    "# Crea un dataframe con el rango de brutos\n",
    "rango_brutos = pd.DataFrame({\n",
    "    'INICIO': inicio_list,\n",
    "    'FIN': fin_list\n",
    "})\n",
    "\n",
    "print(rango_brutos)"
   ]
  },
  {
   "cell_type": "code",
   "execution_count": null,
   "metadata": {},
   "outputs": [],
   "source": [
    "# cruzar brutos con rango_brutos y determinar cantidades en cada grupo\n",
    "\n",
    "brutos.groupby(pd.cut(brutos[\"BRUTO\"], rango_brutos[\"INICIO\"])).size().to_clipboard()"
   ]
  },
  {
   "cell_type": "code",
   "execution_count": null,
   "metadata": {},
   "outputs": [],
   "source": [
    "brutos.to_clipboard()"
   ]
  },
  {
   "cell_type": "code",
   "execution_count": null,
   "metadata": {},
   "outputs": [],
   "source": [
    "\"\"\" CLASIFICAR BRUTOS POR rango_brutos, EN UNA NUEVA COLUMNA \"RANGO\" \"\"\"\n",
    "\n",
    "brutos[\"RANGO\"] = pd.cut(brutos[\"BRUTO\"], bins=rango_brutos[\"INICIO\"], \n",
    "                         include_lowest=True, right=False)"
   ]
  },
  {
   "cell_type": "code",
   "execution_count": null,
   "metadata": {},
   "outputs": [],
   "source": [
    "brutos.to_clipboard()"
   ]
  }
 ],
 "metadata": {
  "kernelspec": {
   "display_name": ".venv",
   "language": "python",
   "name": "python3"
  },
  "language_info": {
   "codemirror_mode": {
    "name": "ipython",
    "version": 3
   },
   "file_extension": ".py",
   "mimetype": "text/x-python",
   "name": "python",
   "nbconvert_exporter": "python",
   "pygments_lexer": "ipython3",
   "version": "3.12.9"
  }
 },
 "nbformat": 4,
 "nbformat_minor": 4
}
