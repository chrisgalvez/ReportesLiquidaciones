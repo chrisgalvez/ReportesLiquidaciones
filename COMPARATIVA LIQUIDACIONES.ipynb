{
 "cells": [
  {
   "cell_type": "markdown",
   "metadata": {
    "editable": true,
    "slideshow": {
     "slide_type": ""
    },
    "tags": []
   },
   "source": [
    "# CHEQUEOS POST LIQUIDACION"
   ]
  },
  {
   "cell_type": "markdown",
   "metadata": {
    "editable": true,
    "jp-MarkdownHeadingCollapsed": true,
    "slideshow": {
     "slide_type": ""
    },
    "tags": []
   },
   "source": [
    "#### Obtencion de Datos"
   ]
  },
  {
   "cell_type": "markdown",
   "metadata": {
    "tags": []
   },
   "source": [
    "### Importaciones"
   ]
  },
  {
   "cell_type": "code",
   "execution_count": 1,
   "metadata": {
    "editable": true,
    "slideshow": {
     "slide_type": ""
    },
    "tags": []
   },
   "outputs": [],
   "source": [
    "from decouple import config\n",
    "import pyodbc as mssql\n",
    "import numpy as np\n",
    "import pandas as pd\n",
    "from datetime import datetime\n",
    "\n",
    "%config IPCompleter.greedy=True\n",
    "pd.set_option('display.float_format', lambda x: '%.2f' % x)\n",
    "from IPython.display import Markdown as md\n",
    "import xlsxwriter as xw\n",
    "\n",
    "import warnings\n",
    "warnings.filterwarnings('ignore')\n"
   ]
  },
  {
   "cell_type": "markdown",
   "metadata": {
    "editable": true,
    "slideshow": {
     "slide_type": ""
    },
    "tags": []
   },
   "source": [
    "#### Parámetros para el cálculo"
   ]
  },
  {
   "cell_type": "code",
   "execution_count": 2,
   "metadata": {
    "editable": true,
    "jupyter": {
     "source_hidden": true
    },
    "slideshow": {
     "slide_type": ""
    },
    "tags": [
     "hide-input"
    ]
   },
   "outputs": [],
   "source": [
    "LIQUIDACION = config(\"LIQUIDACION\") #, default=\"{ye:0000}-{mo:0>2}\".format(ye=datetime.now().year, mo=datetime.now().month)) \n",
    "MINIMO_GENERAL = config(\"MINIMO_GENERAL\", 0.0, cast=float)\n",
    "MINIMO_POLICIAS = config(\"MINIMO_POLICIAS\", 0.0, cast=float)\n",
    "PROMEDIO_INCREMENTOS = config(\"INCREMENTO_MEDIO\", default=0.1, cast=float)\n",
    "EXCLUIR_REPARTICIONES_MINIMO_GARANTIZADO = [17, 26]\n",
    "\n",
    "codigos_bruto = ['0Q','0R','0N','0S','LC','OC','PC','QC','TC','U0','MC','PA','TE','XX','PX','MX','YX','NX','1X']\n"
   ]
  },
  {
   "cell_type": "code",
   "execution_count": null,
   "metadata": {
    "editable": true,
    "slideshow": {
     "slide_type": ""
    },
    "tags": []
   },
   "outputs": [],
   "source": []
  },
  {
   "cell_type": "code",
   "execution_count": 3,
   "metadata": {
    "editable": true,
    "slideshow": {
     "slide_type": ""
    },
    "tags": []
   },
   "outputs": [],
   "source": [
    "# archivo de salida\n",
    "writer = pd.ExcelWriter(\"resultados/Resumen_actual_contra_\" + LIQUIDACION + \".xlsx\", \"xlsxwriter\")\n",
    "wb = writer.book\n",
    "\n",
    "formato_moneda = wb.add_format({'num_format': '$ #,##0.00'})\n",
    "formato_porcentaje = wb.add_format({'num_format': '#,##0.00 %'})\n",
    "formato_fecha = wb.add_format({'num_format': 'dd/mm/yyyy'})"
   ]
  },
  {
   "cell_type": "code",
   "execution_count": 4,
   "metadata": {
    "editable": true,
    "slideshow": {
     "slide_type": ""
    },
    "tags": []
   },
   "outputs": [],
   "source": [
    "SERVER = config(\"SERVIDOR\", \"IPSBD\") #\"IPSBD\"\n",
    "conn = mssql.connect(f\"DRIVER={{SQL SERVER}};SERVER={SERVER};DATABASE=LIQUIDACION;;Trusted_Connection=Yes;\")"
   ]
  },
  {
   "cell_type": "markdown",
   "metadata": {
    "tags": []
   },
   "source": [
    "#### Obtención de la fecha de alta de la liquidacion seleccionada"
   ]
  },
  {
   "cell_type": "code",
   "execution_count": 5,
   "metadata": {
    "jupyter": {
     "source_hidden": true
    },
    "tags": []
   },
   "outputs": [],
   "source": [
    "from datetime import datetime\n",
    "altas_desde = ''\n",
    "altas_desde = pd.read_sql(f\"\"\"SELECT create_date FROM SYS.DATABASES\n",
    "WHERE NAME like '%{LIQUIDACION}%'\"\"\",conn)[\"create_date\"][0].strftime('%d/%m/%Y')"
   ]
  },
  {
   "cell_type": "markdown",
   "metadata": {
    "tags": []
   },
   "source": [
    "#### Obtención de Datos Generales"
   ]
  },
  {
   "cell_type": "code",
   "execution_count": 6,
   "metadata": {
    "jupyter": {
     "source_hidden": true
    },
    "tags": []
   },
   "outputs": [],
   "source": [
    "codigos = pd.read_sql( \"SELECT * FROM CODIGOS\", conn, index_col=\"CODIGO\")\n",
    "reparticion = pd.read_sql( \"SELECT * FROM REPARTICION\", conn, index_col=\"Cod\" )\n",
    "tipos_beneficio = pd.read_sql ( \"SELECT * FROM BENEFICIO\", conn, index_col=\"Cod\" )\n",
    "codigos_bruto_minimo = pd.read_sql(\"SELECT CODIGO FROM CODIGOS WHERE TIPO='C' AND BRUTO_MINIMO=1\", conn)\n",
    "codigos_minimo = codigos_bruto_minimo[\"CODIGO\"]\n",
    "\n",
    "### \n",
    "### Auditorias desde la fecha de creacion de la liquidacion de referencia\n",
    "### para ser excluidas de la comparativa, por ser casos de \"desvio\" a los generales\n",
    "### \n",
    "auditorias = pd.read_sql( \"\"\"SELECT CONTROL FROM AUDIT A WHERE A.ORIGEN='D' AND \n",
    "A.FECHA > CONVERT(int, CONVERT(datetime, '{altas_desde}'))+2\"\"\".format(altas_desde=altas_desde), conn, index_col=\"CONTROL\")\n",
    "\n",
    "beneficios = pd.read_sql( \"\"\"SELECT CONTROL, PLLA, ORDEN, AFILIADO, BENEFICIO, COD_BENEFICIO, LETRA,\n",
    "CASE WHEN COD_BENEFICIO in (7,25,27,29) then DBO.PORCENTAJE_COMPARTIDA(CONTROL) ELSE 1 END AS PORCENTAJE\n",
    "FROM Liquidacion.dbo.DatosAfiliado\n",
    "WHERE HABILITADO='S'\"\"\", conn, index_col=\"CONTROL\")\n",
    "beneficios[[\"COD_BENEFICIO\"]]=beneficios[[\"COD_BENEFICIO\"]].astype(\"int64\")\n",
    "\n",
    "### Excluímos las auditorias de altas y modificaciones para evitar las \"deformaciones\"\n",
    "beneficios_sin_altas = beneficios[~beneficios.index.isin(auditorias.index)]\n",
    "\n",
    "liquidacion_ben = pd.read_sql(\"\"\" SELECT * FROM LIQUIDACION.DBO.LIQUIDACION\"\"\", conn, index_col=[\"PLLA\", \"ORDEN\", \"AFILIADO\"])\n",
    "beneficios_liq = pd.read_sql(\"SELECT * FROM [{liquidacion}].DBO.DATOSAFILIADO\".format(liquidacion=LIQUIDACION), \\\n",
    "                             conn, index_col=[\"CONTROL\"])\n",
    "liquidacion_liq = pd.read_sql(\"SELECT * FROM [{liquidacion}].DBO.LIQUIDACION\".format(liquidacion=LIQUIDACION), \\\n",
    "                                conn, index_col=[\"PLLA\", \"ORDEN\", \"AFILIADO\"])\n",
    "\n"
   ]
  },
  {
   "cell_type": "markdown",
   "metadata": {
    "tags": []
   },
   "source": [
    "### Determinacion de brutos"
   ]
  },
  {
   "cell_type": "markdown",
   "metadata": {
    "tags": []
   },
   "source": [
    "#### Determinacion de los brutos actuales"
   ]
  },
  {
   "cell_type": "code",
   "execution_count": 7,
   "metadata": {
    "jupyter": {
     "source_hidden": true
    },
    "tags": []
   },
   "outputs": [],
   "source": [
    "### determinacion de la tabla de brutos de liquidacion activa\n",
    "brutos_act = beneficios_sin_altas.reset_index().merge(liquidacion_ben, left_on=[\"PLLA\", \"ORDEN\", \"AFILIADO\"],\\\n",
    "                              right_on=[\"PLLA\", \"ORDEN\", \"AFILIADO\"])\n",
    "brutos_act = brutos_act[brutos_act[\"CODIGO\"].isin(codigos_bruto)].groupby([\"CONTROL\"]).sum(\"MONTO\")[[\"MONTO\"]]\n",
    "# agrego aquellos que no tienen codigos de bruto\n",
    "brutos_act = brutos_act.join(beneficios_sin_altas,  how=\"outer\")\n",
    "brutos_act[\"MONTO\"].fillna(value=0.0, inplace=True)\n",
    "brutos_act[\"BRUTO\"] = brutos_act[\"MONTO\"] + brutos_act[\"BENEFICIO\"]\n",
    "# dejo solo la columna del bruto recien calculada\n",
    "brutos_act=brutos_act[[\"BRUTO\",\"BENEFICIO\", \"COD_BENEFICIO\", \"LETRA\"]]"
   ]
  },
  {
   "cell_type": "markdown",
   "metadata": {
    "tags": []
   },
   "source": [
    "#### Determinación de los brutos de referencia"
   ]
  },
  {
   "cell_type": "code",
   "execution_count": 8,
   "metadata": {
    "jupyter": {
     "source_hidden": true
    },
    "tags": []
   },
   "outputs": [],
   "source": [
    "###determinacion de la tabla de brutos de la liquidacion de referencia \n",
    "brutos_liq = beneficios_liq.join(liquidacion_liq, on=[\"PLLA\",\"ORDEN\",\"AFILIADO\"],how=\"inner\", rsuffix=\".LIQ\")\\\n",
    "        .join(codigos, on=[\"CODIGO\"], how=\"inner\", rsuffix=\".COD\")\n",
    "#brutos_liq = brutos_liq[brutos_liq[\"CODIGO\"].isin(codigos_bruto)].groupby(by=\"CONTROL\").sum()[[\"MONTO\"]]\n",
    "\n",
    "brutos_liq.drop(columns=[\"CONTROL\"], axis=1, inplace=True)\n",
    "brutos_liq = brutos_liq[brutos_liq[\"CODIGO\"].isin(codigos_bruto)].groupby(by=\"CONTROL\").sum(\"MONTO\")\n"
   ]
  },
  {
   "cell_type": "code",
   "execution_count": 9,
   "metadata": {
    "jupyter": {
     "source_hidden": true
    }
   },
   "outputs": [],
   "source": [
    "brutos_liq = brutos_liq.join(beneficios_liq, on=\"CONTROL\", how=\"outer\", lsuffix=\"br_l\" )\n",
    "brutos_liq[\"MONTO\"].fillna(value=0.0, inplace=True)\n",
    "brutos_liq[\"BRUTO\"] = brutos_liq[\"MONTO\"] + brutos_liq[\"BENEFICIO\"]\n",
    "\n",
    "brutos_liq=brutos_liq[[\"CONTROL\", \"BRUTO\", \"BENEFICIO\"]]\n",
    "brutos_liq.set_index(keys=\"CONTROL\", inplace=True)\n",
    "brutos_liq=brutos_liq.sort_values(by=\"CONTROL\")"
   ]
  },
  {
   "cell_type": "markdown",
   "metadata": {
    "tags": []
   },
   "source": [
    "### Comparativa de Brutos y Beneficios"
   ]
  },
  {
   "cell_type": "code",
   "execution_count": 10,
   "metadata": {
    "jupyter": {
     "source_hidden": true
    },
    "tags": []
   },
   "outputs": [
    {
     "data": {
      "text/plain": [
       "0"
      ]
     },
     "execution_count": 10,
     "metadata": {},
     "output_type": "execute_result"
    }
   ],
   "source": [
    "###  comparativa \n",
    "\n",
    "brutos = brutos_liq.join( brutos_act, lsuffix=\"_liq\", rsuffix=\"_act\" )\n",
    "brutos[\"DIF_BRUTOS\"] = (brutos[\"BRUTO_act\"]-brutos[\"BRUTO_liq\"])/brutos[\"BRUTO_liq\"]\n",
    "brutos[\"DIF_BENEFICIOS\"] = (brutos[\"BENEFICIO_act\"]-brutos[\"BENEFICIO_liq\"])/brutos[\"BENEFICIO_liq\"]\n",
    "diferencia_brutos=brutos.loc[(brutos[\"DIF_BRUTOS\"] > 0.0) | \\\n",
    "                             (brutos[\"DIF_BENEFICIOS\"] > 0.0), [\"LETRA\", \"COD_BENEFICIO\", \"DIF_BRUTOS\",\"DIF_BENEFICIOS\", ]] \\\n",
    "                            .sort_values(by=\"DIF_BRUTOS\", ascending=False)\n",
    "diferencia_brutos=diferencia_brutos.astype({ 'LETRA' : 'int32', 'COD_BENEFICIO' : 'int32'})\n",
    "diferencia_brutos=diferencia_brutos.join(reparticion, on=\"LETRA\", how=\"inner\", lsuffix=\".db\", rsuffix=\".rep\")\n",
    "diferencia_brutos=diferencia_brutos.join(tipos_beneficio, on=\"COD_BENEFICIO\", how=\"inner\", lsuffix=\".db\", rsuffix=\".tb\")\n",
    "diferencia_brutos=diferencia_brutos[[\"Detalle.db\", \"Detalle.tb\", \"DIF_BRUTOS\", \"DIF_BENEFICIOS\" ]] \\\n",
    "    .rename(columns={\"Detalle.db\":\"Reparticion\", \"Detalle.tb\":\"Tipo_Beneficio\"})\n",
    "diferencia_brutos=diferencia_brutos.sort_values([\"Reparticion\", \"Tipo_Beneficio\"])\n",
    "\n",
    "diferencia_brutos.to_excel(writer, \"Diferencia Brutos\",startrow=0, header=True, index=True)\n",
    "\n",
    "\n",
    "(max_row, max_col)= diferencia_brutos.shape\n",
    "column_settings = []\n",
    "column_settings = np.append(column_settings, {'header': \"CONTROL\"})\n",
    "column_settings = np.append(column_settings, [{'header': column} for column in diferencia_brutos.columns])\n",
    "\n",
    "worksheet = writer.sheets[\"Diferencia Brutos\"]\n",
    "worksheet.add_table(0, 0, max_row+1, max_col, {'columns': column_settings, 'autofilter': False, \\\n",
    "                                             'banded_rows': False, \"style\": None})\n",
    "\n",
    "worksheet.set_column(\"A:A\", 8)\n",
    "worksheet.set_column(\"B:C\", 35)\n",
    "worksheet.set_column(\"D:E\", 15, formato_porcentaje )\n",
    "\n"
   ]
  },
  {
   "cell_type": "markdown",
   "metadata": {},
   "source": [
    "#### Diferencia por reparticion"
   ]
  },
  {
   "cell_type": "code",
   "execution_count": 11,
   "metadata": {
    "jupyter": {
     "source_hidden": true
    }
   },
   "outputs": [
    {
     "data": {
      "text/plain": [
       "0"
      ]
     },
     "execution_count": 11,
     "metadata": {},
     "output_type": "execute_result"
    }
   ],
   "source": [
    "### POR REPARTICION ###\n",
    "\n",
    "inf_rep_letra = brutos.merge(reparticion, left_on=\"LETRA\", right_on=\"Cod\", how=\"inner\")\n",
    "inf_rep_letra = inf_rep_letra[['Detalle', 'BRUTO_liq', 'BENEFICIO_liq', 'BRUTO_act', 'BENEFICIO_act']].groupby(by=\"Detalle\")\\\n",
    "                    .agg({'Detalle':'count', 'BRUTO_liq': 'sum', \"BRUTO_act\": \"sum\", \"BENEFICIO_liq\": \"sum\", \"BENEFICIO_act\": \"sum\"})\n",
    "inf_rep_letra[\"DIF_BRUTOS\"] = (inf_rep_letra[\"BRUTO_act\"]-inf_rep_letra[\"BRUTO_liq\"])/inf_rep_letra[\"BRUTO_liq\"]\n",
    "inf_rep_letra[\"DIF_BENEFICIOS\"] = (inf_rep_letra[\"BENEFICIO_act\"] - inf_rep_letra[\"BENEFICIO_liq\"])/inf_rep_letra[\"BENEFICIO_liq\"]\n",
    "inf_rep_letra=inf_rep_letra[(inf_rep_letra[\"DIF_BRUTOS\"]>0.01) | (inf_rep_letra[\"DIF_BENEFICIOS\"]>0.01)]\n",
    "inf_rep_letra=inf_rep_letra.rename(columns={\"Detalle\":\"Cantidad\"})\n",
    "\n",
    "inf_rep_letra.to_excel(writer, \"Dif Brutos Por Rep\")\n",
    "\n",
    "(max_row, max_col)= inf_rep_letra.shape\n",
    "\n",
    "column_settings = []\n",
    "column_settings = np.append(column_settings, {'header': \"Reparticion\"})\n",
    "column_settings = np.append(column_settings, [{'header': column} \n",
    "    for column in  inf_rep_letra.columns])\n",
    "\n",
    "worksheet = writer.sheets[\"Dif Brutos Por Rep\"]\n",
    "worksheet.add_table(0, 0, max_row, max_col, {'columns': column_settings, \n",
    "                                        'autofilter': False, \\\n",
    "                                        'banded_rows': False, \"style\": None})\n",
    "\n",
    "worksheet.set_column(\"A:A\", 35)\n",
    "worksheet.set_column(\"B:B\", 10)\n",
    "worksheet.set_column(\"C:F\", 20, formato_moneda)\n",
    "worksheet.set_column(\"G:H\", 20, formato_porcentaje )\n",
    "\n"
   ]
  },
  {
   "cell_type": "markdown",
   "metadata": {
    "tags": []
   },
   "source": [
    "### Mínimos"
   ]
  },
  {
   "cell_type": "markdown",
   "metadata": {
    "tags": []
   },
   "source": [
    "#### Mínimos Administración Central y Organismos"
   ]
  },
  {
   "cell_type": "code",
   "execution_count": 12,
   "metadata": {
    "jupyter": {
     "source_hidden": true
    },
    "tags": []
   },
   "outputs": [],
   "source": [
    "brutos_minimo = beneficios_liq.join(liquidacion_liq, on=[\"PLLA\",\"ORDEN\",\"AFILIADO\"],how=\"inner\", rsuffix=\".LIQ\")\\\n",
    "        .join(codigos, on=[\"CODIGO\"], how=\"inner\", rsuffix=\".COD\")"
   ]
  },
  {
   "cell_type": "code",
   "execution_count": 13,
   "metadata": {
    "jupyter": {
     "source_hidden": true
    },
    "tags": []
   },
   "outputs": [],
   "source": [
    "#brutos_minimo = brutos_liq[brutos_liq[\"CODIGO\"].isin(codigos_bruto)].groupby(by=\"CONTROL\").sum()[[\"MONTO\"]]\n",
    "\n",
    "#brutos_liq\n",
    "#brutos_minimo.drop(columns=[\"CONTROL\"], axis=1, inplace=True)\n",
    "#brutos_minimo = brutos_liq[brutos_liq[\"CODIGO\"].isin(codigos_bruto)].groupby(by=\"CONTROL\").sum(\"MONTO\")\n",
    "#brutos_minimo\n",
    "\n",
    "#minimos[\"ZX_act\"] = np.where((~minimos[\"LETRA\"].isin([17,26]) & (minimos[\"BRUTO_act\"] < minimo_general*minimos[\"PORCENTAJE\"])), minimo_general*minimos[\"PORCENTAJE\"]-minimos[\"BRUTO_act\"], 0.0)\n",
    "#minimos.fillna(0, inplace=True)\n",
    "\n",
    "#minimos.loc[(minimos[\"BRUTO_act\"]+minimos[\"ZX_act\"]<(MINIMO_GENERAL*minimos[\"PORCENTAJE\"])-0.1)&(minimos[\"ZX_act\"]>0),[\"BRUTO_act\", \"ZX_act\"]].to_excel(writer, \"Minimos_en_defecto\")\n",
    "\n",
    "#minimos.loc[(minimos[\"BRUTO_act\"]+minimos[\"ZX_act\"]>(MINIMO_GENERAL*minimos[\"PORCENTAJE\"])+0.1)&(minimos[\"ZX_act\"]>0),[\"BRUTO_act\", \"ZX_act\"]].to_excel(writer, \"Minimos_en_exceso\")"
   ]
  },
  {
   "cell_type": "markdown",
   "metadata": {
    "tags": []
   },
   "source": [
    "#### Mínimos Retiros Policiales y Carcelarios"
   ]
  },
  {
   "cell_type": "code",
   "execution_count": 14,
   "metadata": {
    "jupyter": {
     "source_hidden": true
    }
   },
   "outputs": [],
   "source": [
    "#minimos[(minimos[\"Minimo\"] >= 2500) & (minimos[\"Minimo\"] <= 2502.5)]"
   ]
  },
  {
   "cell_type": "code",
   "execution_count": 15,
   "metadata": {
    "jupyter": {
     "source_hidden": true
    },
    "tags": [
     "hide-input"
    ]
   },
   "outputs": [],
   "source": [
    "# minimos = beneficios.join( beneficios_liq, on=\"CONTROL\", lsuffix=\".BEN\", rsuffix=\".BENLIQ\" )\\\n",
    "#             .join(reparticion, on=\"LETRA\" , rsuffix=\".REP\", )\\\n",
    "#             .join(brutos, on=\"CONTROL\", rsuffix=\".BRT\")\\\n",
    "#             .join(tipos_beneficio, on=\"COD_BENEFICIO\", rsuffix=\".tb\")\n",
    "            \n",
    "\n",
    "# minimos[minimos[\"BRUTO_act\"] < minimo_policias]\n",
    "# minimos[\"PX_act\"] = np.where((minimos[\"LETRA\"].isin([17,26]) & (minimos[\"BRUTO_act\"] < minimo_policias*minimos[\"PORCENTAJE\"])), minimo_policias*minimos[\"PORCENTAJE\"]-minimos[\"BRUTO_act\"], 0.0)\n",
    "# minimos.fillna(0, inplace=True)\n",
    "\n",
    "# minimos_pagados = beneficios_liq.join(liquidacion_liq, on=[\"PLLA\",\"ORDEN\",\"AFILIADO\"],how=\"inner\", rsuffix=\".LIQ\")\\\n",
    "#         .join(codigos, on=[\"CODIGO\"], how=\"inner\", rsuffix=\".COD\")\n",
    "\n",
    "# minimos_pagados=minimos_pagados.loc[minimos_pagados[\"CODIGO\"].isin(['PX']), [\"MONTO\"]]\\\n",
    "#         .groupby(\"CONTROL\").sum(\"MONTO\")\n",
    "\n",
    "# minimos=minimos.join(minimos_pagados, on=\"CONTROL\", rsuffix=\".MINPAG\").rename(columns={\"MONTO\":\"PX_liq\", \"Detalle\":\"Reparticion\", \"Detalle.tb\":\"TIPO_BEN\"})\n",
    "# minimos.fillna(0.0, inplace=True)\n",
    "\n",
    "# minimos=minimos.loc[(np.abs(minimos[\"PX_act\"]-minimos[\"PX_liq\"])>1)  ,[\"Reparticion\", \"TIPO_BEN\", \"BRUTO_act\", \"PX_act\", \"BRUTO_liq\", \"PX_liq\"]]\n",
    "\n",
    "# #minimos.to_excel(writer, \"Minimos Retiros Policiales\")\n",
    "\n"
   ]
  },
  {
   "cell_type": "markdown",
   "metadata": {
    "tags": []
   },
   "source": [
    "## Retroactivos\n"
   ]
  },
  {
   "cell_type": "code",
   "execution_count": 16,
   "metadata": {
    "jupyter": {
     "source_hidden": true
    }
   },
   "outputs": [
    {
     "data": {
      "text/plain": [
       "0"
      ]
     },
     "execution_count": 16,
     "metadata": {},
     "output_type": "execute_result"
    }
   ],
   "source": [
    "calculos = pd.read_sql(\"\"\"SELECT D.CONTROL, D.NOMBRE, R.DETALLE AS REPARTICINO, DC.VALOR CUOTA, DC.FINI RETRO_DESDE, \n",
    "            DC.FFIN RETRO_HASTA, APLICARDESDE, APLICARHASTA\n",
    "            FROM DATOSAFILIADO D INNER JOIN\n",
    "            CALCULOS C ON C.CONTROL=D.CONTROL\n",
    "            INNER JOIN DATCALCULOS DC ON DC.CODLIQ=C.CODLIQ\n",
    "            INNER JOIN REPARTICION R ON R.COD=D.LETRA\n",
    "            INNER JOIN PLANES P ON P.CODLIQ=C.CODLIQ\n",
    "            WHERE MONTH(CONVERT(DATETIME, C.FECHA+2))=MONTH(GETDATE()) AND YEAR(CONVERT(DATETIME, C.FECHA+2))=YEAR(GETDATE())\n",
    "            AND USUARIO = 'SISTEMAS'\"\"\", conn)\n",
    "\n",
    "calculos.to_excel(writer, \"Retroactivos_incrementos\")\n",
    "\n",
    "ws = writer.sheets[\"Retroactivos_incrementos\"]\n",
    "ws.set_column(\"E:H\", 15, formato_fecha )\n"
   ]
  },
  {
   "cell_type": "markdown",
   "metadata": {
    "tags": []
   },
   "source": [
    "## Cerrar archivo excel y guardar"
   ]
  },
  {
   "cell_type": "code",
   "execution_count": 17,
   "metadata": {
    "jupyter": {
     "source_hidden": true
    }
   },
   "outputs": [],
   "source": [
    "### Guardado y cierre del archivo excel\n",
    "writer.close()"
   ]
  },
  {
   "cell_type": "code",
   "execution_count": 18,
   "metadata": {
    "jupyter": {
     "source_hidden": true
    }
   },
   "outputs": [
    {
     "data": {
      "application/vnd.microsoft.datawrangler.viewer.v0+json": {
       "columns": [
        {
         "name": "index",
         "rawType": "int64",
         "type": "integer"
        },
        {
         "name": "CONTROL",
         "rawType": "int64",
         "type": "integer"
        },
        {
         "name": "NOMBRE",
         "rawType": "object",
         "type": "string"
        },
        {
         "name": "REPARTICINO",
         "rawType": "object",
         "type": "string"
        },
        {
         "name": "CUOTA",
         "rawType": "float64",
         "type": "float"
        },
        {
         "name": "RETRO_DESDE",
         "rawType": "int64",
         "type": "integer"
        },
        {
         "name": "RETRO_HASTA",
         "rawType": "int64",
         "type": "integer"
        },
        {
         "name": "APLICARDESDE",
         "rawType": "int64",
         "type": "integer"
        },
        {
         "name": "APLICARHASTA",
         "rawType": "int64",
         "type": "integer"
        }
       ],
       "conversionMethod": "pd.DataFrame",
       "ref": "febaff04-378b-4635-8ff7-a7a1d4b26a91",
       "rows": [
        [
         "0",
         "11805",
         "SUC.GOMEZ ANTONIO ABEL",
         "Munic. Mercedes",
         "128032.9",
         "45566",
         "45689",
         "45717",
         "45717"
        ],
        [
         "1",
         "11805",
         "SUC.GOMEZ ANTONIO ABEL",
         "Munic. Mercedes",
         "89924.77",
         "45597",
         "45689",
         "45717",
         "45717"
        ],
        [
         "2",
         "11805",
         "SUC.GOMEZ ANTONIO ABEL",
         "Munic. Mercedes",
         "55444.54",
         "45689",
         "45689",
         "45717",
         "45717"
        ],
        [
         "3",
         "12194",
         "SUC.FERRARI RICARDO RAFAE",
         "Munic. Mercedes",
         "126487.88",
         "45566",
         "45689",
         "45717",
         "45717"
        ],
        [
         "4",
         "12194",
         "SUC.FERRARI RICARDO RAFAE",
         "Munic. Mercedes",
         "88839.61",
         "45597",
         "45689",
         "45717",
         "45717"
        ],
        [
         "5",
         "12194",
         "SUC.FERRARI RICARDO RAFAE",
         "Munic. Mercedes",
         "54775.47",
         "45689",
         "45689",
         "45717",
         "45717"
        ],
        [
         "6",
         "28523",
         "SUC.RODRIGUEZ,  OMAR JOSE",
         "Munic. San Luis del Palmar",
         "40398.87",
         "45689",
         "45689",
         "45717",
         "45717"
        ],
        [
         "7",
         "35623",
         "BARRIOS, JOSE AURELIO",
         "Munic. San Luis del Palmar",
         "75801.11",
         "45689",
         "45689",
         "45717",
         "45717"
        ],
        [
         "8",
         "39452",
         "SUC.IBARROLA, HECTOR",
         "Munic. Mercedes",
         "448154.63",
         "45566",
         "45689",
         "45717",
         "45717"
        ],
        [
         "9",
         "39452",
         "SUC.IBARROLA, HECTOR",
         "Munic. Mercedes",
         "314764.4",
         "45597",
         "45689",
         "45717",
         "45717"
        ],
        [
         "10",
         "39452",
         "SUC.IBARROLA, HECTOR",
         "Munic. Mercedes",
         "194072.98",
         "45689",
         "45689",
         "45717",
         "45717"
        ],
        [
         "11",
         "39609",
         "MELGAREJO, RUBELIO ARMANDO",
         "Munic. San Luis del Palmar",
         "6131.91",
         "45689",
         "45689",
         "45717",
         "45717"
        ],
        [
         "12",
         "40260",
         "FLORENTIN, GLORIA AMADA",
         "Munic. Mercedes",
         "182152.93",
         "45566",
         "45689",
         "45717",
         "45717"
        ],
        [
         "13",
         "40260",
         "FLORENTIN, GLORIA AMADA",
         "Munic. Mercedes",
         "127936.33",
         "45597",
         "45689",
         "45717",
         "45717"
        ],
        [
         "14",
         "40260",
         "FLORENTIN, GLORIA AMADA",
         "Munic. Mercedes",
         "78881.17",
         "45689",
         "45689",
         "45717",
         "45717"
        ],
        [
         "15",
         "52893",
         "DE LOS SANTOS, JOSE LUIS",
         "Munic. Mercedes",
         "273907.75",
         "45566",
         "45689",
         "45717",
         "45717"
        ],
        [
         "16",
         "52893",
         "DE LOS SANTOS, JOSE LUIS",
         "Munic. Mercedes",
         "192380.94",
         "45597",
         "45689",
         "45717",
         "45717"
        ],
        [
         "17",
         "52893",
         "DE LOS SANTOS, JOSE LUIS",
         "Munic. Mercedes",
         "118615.52",
         "45689",
         "45689",
         "45717",
         "45717"
        ],
        [
         "18",
         "59182",
         "ACOSTA, MERCEDES HORTENCIA",
         "Munic. San Luis del Palmar",
         "32151.02",
         "45689",
         "45689",
         "45717",
         "45717"
        ],
        [
         "19",
         "59864",
         "RAMIREZ, ELSA BEATRIZ",
         "Munic. San Luis del Palmar",
         "30651.94",
         "45689",
         "45689",
         "45717",
         "45717"
        ],
        [
         "20",
         "63119",
         "MEDINA, CALIXTA ISABEL",
         "Munic. San Luis del Palmar",
         "35208.88",
         "45689",
         "45689",
         "45717",
         "45717"
        ],
        [
         "21",
         "72183",
         "OBREGON, HAIDE HERMEREGILDA",
         "Munic. San Luis del Palmar",
         "26632.84",
         "45689",
         "45689",
         "45717",
         "45717"
        ],
        [
         "22",
         "73683",
         "NAVARRO, CARLOS LUIS",
         "Munic. San Luis del Palmar",
         "30663.75",
         "45689",
         "45689",
         "45717",
         "45717"
        ],
        [
         "23",
         "77266",
         "SUC.GRIGOLATTO, JORGE RAFAEL",
         "Munic. San Luis del Palmar",
         "38938.72",
         "45689",
         "45689",
         "45717",
         "45717"
        ],
        [
         "24",
         "78083",
         "MAIDANA, EDUARDO ANDRES",
         "Munic. San Luis del Palmar",
         "37279.01",
         "45689",
         "45689",
         "45717",
         "45717"
        ],
        [
         "25",
         "79310",
         "SELDES, JOSE JULIO",
         "Munic. Mercedes",
         "79913.45",
         "45566",
         "45689",
         "45717",
         "45717"
        ],
        [
         "26",
         "79310",
         "SELDES, JOSE JULIO",
         "Munic. Mercedes",
         "56127.75",
         "45597",
         "45689",
         "45717",
         "45717"
        ],
        [
         "27",
         "79310",
         "SELDES, JOSE JULIO",
         "Munic. Mercedes",
         "34606.45",
         "45689",
         "45689",
         "45717",
         "45717"
        ],
        [
         "28",
         "79594",
         "COLOMBI, ARTURO ALEJANDRO ",
         "Munic. Mercedes",
         "550303.58",
         "45566",
         "45689",
         "45717",
         "45717"
        ],
        [
         "29",
         "79594",
         "COLOMBI, ARTURO ALEJANDRO ",
         "Munic. Mercedes",
         "386509.4",
         "45597",
         "45689",
         "45717",
         "45717"
        ],
        [
         "30",
         "79594",
         "COLOMBI, ARTURO ALEJANDRO ",
         "Munic. Mercedes",
         "238308.5",
         "45689",
         "45689",
         "45717",
         "45717"
        ],
        [
         "31",
         "80225",
         "SOLIS, JULIO CESAR",
         "Munic. San Luis del Palmar",
         "31931.83",
         "45689",
         "45689",
         "45717",
         "45717"
        ],
        [
         "32",
         "80269",
         "ALMIRON, DOLORES ISAAC ",
         "Munic. San Luis del Palmar",
         "36623.93",
         "45689",
         "45689",
         "45717",
         "45717"
        ],
        [
         "33",
         "80312",
         "AVALOS, CARLOS ROBERTO",
         "Munic. Mercedes",
         "60909.96",
         "45689",
         "45689",
         "45717",
         "45717"
        ],
        [
         "34",
         "80352",
         "RAMIREZ, JOSE RAMON LUIS ",
         "Munic. San Luis del Palmar",
         "48179.76",
         "45689",
         "45689",
         "45717",
         "45717"
        ]
       ],
       "shape": {
        "columns": 8,
        "rows": 35
       }
      },
      "text/html": [
       "<div>\n",
       "<style scoped>\n",
       "    .dataframe tbody tr th:only-of-type {\n",
       "        vertical-align: middle;\n",
       "    }\n",
       "\n",
       "    .dataframe tbody tr th {\n",
       "        vertical-align: top;\n",
       "    }\n",
       "\n",
       "    .dataframe thead th {\n",
       "        text-align: right;\n",
       "    }\n",
       "</style>\n",
       "<table border=\"1\" class=\"dataframe\">\n",
       "  <thead>\n",
       "    <tr style=\"text-align: right;\">\n",
       "      <th></th>\n",
       "      <th>CONTROL</th>\n",
       "      <th>NOMBRE</th>\n",
       "      <th>REPARTICINO</th>\n",
       "      <th>CUOTA</th>\n",
       "      <th>RETRO_DESDE</th>\n",
       "      <th>RETRO_HASTA</th>\n",
       "      <th>APLICARDESDE</th>\n",
       "      <th>APLICARHASTA</th>\n",
       "    </tr>\n",
       "  </thead>\n",
       "  <tbody>\n",
       "    <tr>\n",
       "      <th>0</th>\n",
       "      <td>11805</td>\n",
       "      <td>SUC.GOMEZ ANTONIO ABEL</td>\n",
       "      <td>Munic. Mercedes</td>\n",
       "      <td>128032.90</td>\n",
       "      <td>45566</td>\n",
       "      <td>45689</td>\n",
       "      <td>45717</td>\n",
       "      <td>45717</td>\n",
       "    </tr>\n",
       "    <tr>\n",
       "      <th>1</th>\n",
       "      <td>11805</td>\n",
       "      <td>SUC.GOMEZ ANTONIO ABEL</td>\n",
       "      <td>Munic. Mercedes</td>\n",
       "      <td>89924.77</td>\n",
       "      <td>45597</td>\n",
       "      <td>45689</td>\n",
       "      <td>45717</td>\n",
       "      <td>45717</td>\n",
       "    </tr>\n",
       "    <tr>\n",
       "      <th>2</th>\n",
       "      <td>11805</td>\n",
       "      <td>SUC.GOMEZ ANTONIO ABEL</td>\n",
       "      <td>Munic. Mercedes</td>\n",
       "      <td>55444.54</td>\n",
       "      <td>45689</td>\n",
       "      <td>45689</td>\n",
       "      <td>45717</td>\n",
       "      <td>45717</td>\n",
       "    </tr>\n",
       "    <tr>\n",
       "      <th>3</th>\n",
       "      <td>12194</td>\n",
       "      <td>SUC.FERRARI RICARDO RAFAE</td>\n",
       "      <td>Munic. Mercedes</td>\n",
       "      <td>126487.88</td>\n",
       "      <td>45566</td>\n",
       "      <td>45689</td>\n",
       "      <td>45717</td>\n",
       "      <td>45717</td>\n",
       "    </tr>\n",
       "    <tr>\n",
       "      <th>4</th>\n",
       "      <td>12194</td>\n",
       "      <td>SUC.FERRARI RICARDO RAFAE</td>\n",
       "      <td>Munic. Mercedes</td>\n",
       "      <td>88839.61</td>\n",
       "      <td>45597</td>\n",
       "      <td>45689</td>\n",
       "      <td>45717</td>\n",
       "      <td>45717</td>\n",
       "    </tr>\n",
       "    <tr>\n",
       "      <th>5</th>\n",
       "      <td>12194</td>\n",
       "      <td>SUC.FERRARI RICARDO RAFAE</td>\n",
       "      <td>Munic. Mercedes</td>\n",
       "      <td>54775.47</td>\n",
       "      <td>45689</td>\n",
       "      <td>45689</td>\n",
       "      <td>45717</td>\n",
       "      <td>45717</td>\n",
       "    </tr>\n",
       "    <tr>\n",
       "      <th>6</th>\n",
       "      <td>28523</td>\n",
       "      <td>SUC.RODRIGUEZ,  OMAR JOSE</td>\n",
       "      <td>Munic. San Luis del Palmar</td>\n",
       "      <td>40398.87</td>\n",
       "      <td>45689</td>\n",
       "      <td>45689</td>\n",
       "      <td>45717</td>\n",
       "      <td>45717</td>\n",
       "    </tr>\n",
       "    <tr>\n",
       "      <th>7</th>\n",
       "      <td>35623</td>\n",
       "      <td>BARRIOS, JOSE AURELIO</td>\n",
       "      <td>Munic. San Luis del Palmar</td>\n",
       "      <td>75801.11</td>\n",
       "      <td>45689</td>\n",
       "      <td>45689</td>\n",
       "      <td>45717</td>\n",
       "      <td>45717</td>\n",
       "    </tr>\n",
       "    <tr>\n",
       "      <th>8</th>\n",
       "      <td>39452</td>\n",
       "      <td>SUC.IBARROLA, HECTOR</td>\n",
       "      <td>Munic. Mercedes</td>\n",
       "      <td>448154.63</td>\n",
       "      <td>45566</td>\n",
       "      <td>45689</td>\n",
       "      <td>45717</td>\n",
       "      <td>45717</td>\n",
       "    </tr>\n",
       "    <tr>\n",
       "      <th>9</th>\n",
       "      <td>39452</td>\n",
       "      <td>SUC.IBARROLA, HECTOR</td>\n",
       "      <td>Munic. Mercedes</td>\n",
       "      <td>314764.40</td>\n",
       "      <td>45597</td>\n",
       "      <td>45689</td>\n",
       "      <td>45717</td>\n",
       "      <td>45717</td>\n",
       "    </tr>\n",
       "    <tr>\n",
       "      <th>10</th>\n",
       "      <td>39452</td>\n",
       "      <td>SUC.IBARROLA, HECTOR</td>\n",
       "      <td>Munic. Mercedes</td>\n",
       "      <td>194072.98</td>\n",
       "      <td>45689</td>\n",
       "      <td>45689</td>\n",
       "      <td>45717</td>\n",
       "      <td>45717</td>\n",
       "    </tr>\n",
       "    <tr>\n",
       "      <th>11</th>\n",
       "      <td>39609</td>\n",
       "      <td>MELGAREJO, RUBELIO ARMANDO</td>\n",
       "      <td>Munic. San Luis del Palmar</td>\n",
       "      <td>6131.91</td>\n",
       "      <td>45689</td>\n",
       "      <td>45689</td>\n",
       "      <td>45717</td>\n",
       "      <td>45717</td>\n",
       "    </tr>\n",
       "    <tr>\n",
       "      <th>12</th>\n",
       "      <td>40260</td>\n",
       "      <td>FLORENTIN, GLORIA AMADA</td>\n",
       "      <td>Munic. Mercedes</td>\n",
       "      <td>182152.93</td>\n",
       "      <td>45566</td>\n",
       "      <td>45689</td>\n",
       "      <td>45717</td>\n",
       "      <td>45717</td>\n",
       "    </tr>\n",
       "    <tr>\n",
       "      <th>13</th>\n",
       "      <td>40260</td>\n",
       "      <td>FLORENTIN, GLORIA AMADA</td>\n",
       "      <td>Munic. Mercedes</td>\n",
       "      <td>127936.33</td>\n",
       "      <td>45597</td>\n",
       "      <td>45689</td>\n",
       "      <td>45717</td>\n",
       "      <td>45717</td>\n",
       "    </tr>\n",
       "    <tr>\n",
       "      <th>14</th>\n",
       "      <td>40260</td>\n",
       "      <td>FLORENTIN, GLORIA AMADA</td>\n",
       "      <td>Munic. Mercedes</td>\n",
       "      <td>78881.17</td>\n",
       "      <td>45689</td>\n",
       "      <td>45689</td>\n",
       "      <td>45717</td>\n",
       "      <td>45717</td>\n",
       "    </tr>\n",
       "    <tr>\n",
       "      <th>15</th>\n",
       "      <td>52893</td>\n",
       "      <td>DE LOS SANTOS, JOSE LUIS</td>\n",
       "      <td>Munic. Mercedes</td>\n",
       "      <td>273907.75</td>\n",
       "      <td>45566</td>\n",
       "      <td>45689</td>\n",
       "      <td>45717</td>\n",
       "      <td>45717</td>\n",
       "    </tr>\n",
       "    <tr>\n",
       "      <th>16</th>\n",
       "      <td>52893</td>\n",
       "      <td>DE LOS SANTOS, JOSE LUIS</td>\n",
       "      <td>Munic. Mercedes</td>\n",
       "      <td>192380.94</td>\n",
       "      <td>45597</td>\n",
       "      <td>45689</td>\n",
       "      <td>45717</td>\n",
       "      <td>45717</td>\n",
       "    </tr>\n",
       "    <tr>\n",
       "      <th>17</th>\n",
       "      <td>52893</td>\n",
       "      <td>DE LOS SANTOS, JOSE LUIS</td>\n",
       "      <td>Munic. Mercedes</td>\n",
       "      <td>118615.52</td>\n",
       "      <td>45689</td>\n",
       "      <td>45689</td>\n",
       "      <td>45717</td>\n",
       "      <td>45717</td>\n",
       "    </tr>\n",
       "    <tr>\n",
       "      <th>18</th>\n",
       "      <td>59182</td>\n",
       "      <td>ACOSTA, MERCEDES HORTENCIA</td>\n",
       "      <td>Munic. San Luis del Palmar</td>\n",
       "      <td>32151.02</td>\n",
       "      <td>45689</td>\n",
       "      <td>45689</td>\n",
       "      <td>45717</td>\n",
       "      <td>45717</td>\n",
       "    </tr>\n",
       "    <tr>\n",
       "      <th>19</th>\n",
       "      <td>59864</td>\n",
       "      <td>RAMIREZ, ELSA BEATRIZ</td>\n",
       "      <td>Munic. San Luis del Palmar</td>\n",
       "      <td>30651.94</td>\n",
       "      <td>45689</td>\n",
       "      <td>45689</td>\n",
       "      <td>45717</td>\n",
       "      <td>45717</td>\n",
       "    </tr>\n",
       "    <tr>\n",
       "      <th>20</th>\n",
       "      <td>63119</td>\n",
       "      <td>MEDINA, CALIXTA ISABEL</td>\n",
       "      <td>Munic. San Luis del Palmar</td>\n",
       "      <td>35208.88</td>\n",
       "      <td>45689</td>\n",
       "      <td>45689</td>\n",
       "      <td>45717</td>\n",
       "      <td>45717</td>\n",
       "    </tr>\n",
       "    <tr>\n",
       "      <th>21</th>\n",
       "      <td>72183</td>\n",
       "      <td>OBREGON, HAIDE HERMEREGILDA</td>\n",
       "      <td>Munic. San Luis del Palmar</td>\n",
       "      <td>26632.84</td>\n",
       "      <td>45689</td>\n",
       "      <td>45689</td>\n",
       "      <td>45717</td>\n",
       "      <td>45717</td>\n",
       "    </tr>\n",
       "    <tr>\n",
       "      <th>22</th>\n",
       "      <td>73683</td>\n",
       "      <td>NAVARRO, CARLOS LUIS</td>\n",
       "      <td>Munic. San Luis del Palmar</td>\n",
       "      <td>30663.75</td>\n",
       "      <td>45689</td>\n",
       "      <td>45689</td>\n",
       "      <td>45717</td>\n",
       "      <td>45717</td>\n",
       "    </tr>\n",
       "    <tr>\n",
       "      <th>23</th>\n",
       "      <td>77266</td>\n",
       "      <td>SUC.GRIGOLATTO, JORGE RAFAEL</td>\n",
       "      <td>Munic. San Luis del Palmar</td>\n",
       "      <td>38938.72</td>\n",
       "      <td>45689</td>\n",
       "      <td>45689</td>\n",
       "      <td>45717</td>\n",
       "      <td>45717</td>\n",
       "    </tr>\n",
       "    <tr>\n",
       "      <th>24</th>\n",
       "      <td>78083</td>\n",
       "      <td>MAIDANA, EDUARDO ANDRES</td>\n",
       "      <td>Munic. San Luis del Palmar</td>\n",
       "      <td>37279.01</td>\n",
       "      <td>45689</td>\n",
       "      <td>45689</td>\n",
       "      <td>45717</td>\n",
       "      <td>45717</td>\n",
       "    </tr>\n",
       "    <tr>\n",
       "      <th>25</th>\n",
       "      <td>79310</td>\n",
       "      <td>SELDES, JOSE JULIO</td>\n",
       "      <td>Munic. Mercedes</td>\n",
       "      <td>79913.45</td>\n",
       "      <td>45566</td>\n",
       "      <td>45689</td>\n",
       "      <td>45717</td>\n",
       "      <td>45717</td>\n",
       "    </tr>\n",
       "    <tr>\n",
       "      <th>26</th>\n",
       "      <td>79310</td>\n",
       "      <td>SELDES, JOSE JULIO</td>\n",
       "      <td>Munic. Mercedes</td>\n",
       "      <td>56127.75</td>\n",
       "      <td>45597</td>\n",
       "      <td>45689</td>\n",
       "      <td>45717</td>\n",
       "      <td>45717</td>\n",
       "    </tr>\n",
       "    <tr>\n",
       "      <th>27</th>\n",
       "      <td>79310</td>\n",
       "      <td>SELDES, JOSE JULIO</td>\n",
       "      <td>Munic. Mercedes</td>\n",
       "      <td>34606.45</td>\n",
       "      <td>45689</td>\n",
       "      <td>45689</td>\n",
       "      <td>45717</td>\n",
       "      <td>45717</td>\n",
       "    </tr>\n",
       "    <tr>\n",
       "      <th>28</th>\n",
       "      <td>79594</td>\n",
       "      <td>COLOMBI, ARTURO ALEJANDRO</td>\n",
       "      <td>Munic. Mercedes</td>\n",
       "      <td>550303.58</td>\n",
       "      <td>45566</td>\n",
       "      <td>45689</td>\n",
       "      <td>45717</td>\n",
       "      <td>45717</td>\n",
       "    </tr>\n",
       "    <tr>\n",
       "      <th>29</th>\n",
       "      <td>79594</td>\n",
       "      <td>COLOMBI, ARTURO ALEJANDRO</td>\n",
       "      <td>Munic. Mercedes</td>\n",
       "      <td>386509.40</td>\n",
       "      <td>45597</td>\n",
       "      <td>45689</td>\n",
       "      <td>45717</td>\n",
       "      <td>45717</td>\n",
       "    </tr>\n",
       "    <tr>\n",
       "      <th>30</th>\n",
       "      <td>79594</td>\n",
       "      <td>COLOMBI, ARTURO ALEJANDRO</td>\n",
       "      <td>Munic. Mercedes</td>\n",
       "      <td>238308.50</td>\n",
       "      <td>45689</td>\n",
       "      <td>45689</td>\n",
       "      <td>45717</td>\n",
       "      <td>45717</td>\n",
       "    </tr>\n",
       "    <tr>\n",
       "      <th>31</th>\n",
       "      <td>80225</td>\n",
       "      <td>SOLIS, JULIO CESAR</td>\n",
       "      <td>Munic. San Luis del Palmar</td>\n",
       "      <td>31931.83</td>\n",
       "      <td>45689</td>\n",
       "      <td>45689</td>\n",
       "      <td>45717</td>\n",
       "      <td>45717</td>\n",
       "    </tr>\n",
       "    <tr>\n",
       "      <th>32</th>\n",
       "      <td>80269</td>\n",
       "      <td>ALMIRON, DOLORES ISAAC</td>\n",
       "      <td>Munic. San Luis del Palmar</td>\n",
       "      <td>36623.93</td>\n",
       "      <td>45689</td>\n",
       "      <td>45689</td>\n",
       "      <td>45717</td>\n",
       "      <td>45717</td>\n",
       "    </tr>\n",
       "    <tr>\n",
       "      <th>33</th>\n",
       "      <td>80312</td>\n",
       "      <td>AVALOS, CARLOS ROBERTO</td>\n",
       "      <td>Munic. Mercedes</td>\n",
       "      <td>60909.96</td>\n",
       "      <td>45689</td>\n",
       "      <td>45689</td>\n",
       "      <td>45717</td>\n",
       "      <td>45717</td>\n",
       "    </tr>\n",
       "    <tr>\n",
       "      <th>34</th>\n",
       "      <td>80352</td>\n",
       "      <td>RAMIREZ, JOSE RAMON LUIS</td>\n",
       "      <td>Munic. San Luis del Palmar</td>\n",
       "      <td>48179.76</td>\n",
       "      <td>45689</td>\n",
       "      <td>45689</td>\n",
       "      <td>45717</td>\n",
       "      <td>45717</td>\n",
       "    </tr>\n",
       "  </tbody>\n",
       "</table>\n",
       "</div>"
      ],
      "text/plain": [
       "    CONTROL                        NOMBRE                 REPARTICINO  \\\n",
       "0     11805        SUC.GOMEZ ANTONIO ABEL             Munic. Mercedes   \n",
       "1     11805        SUC.GOMEZ ANTONIO ABEL             Munic. Mercedes   \n",
       "2     11805        SUC.GOMEZ ANTONIO ABEL             Munic. Mercedes   \n",
       "3     12194     SUC.FERRARI RICARDO RAFAE             Munic. Mercedes   \n",
       "4     12194     SUC.FERRARI RICARDO RAFAE             Munic. Mercedes   \n",
       "5     12194     SUC.FERRARI RICARDO RAFAE             Munic. Mercedes   \n",
       "6     28523     SUC.RODRIGUEZ,  OMAR JOSE  Munic. San Luis del Palmar   \n",
       "7     35623         BARRIOS, JOSE AURELIO  Munic. San Luis del Palmar   \n",
       "8     39452          SUC.IBARROLA, HECTOR             Munic. Mercedes   \n",
       "9     39452          SUC.IBARROLA, HECTOR             Munic. Mercedes   \n",
       "10    39452          SUC.IBARROLA, HECTOR             Munic. Mercedes   \n",
       "11    39609    MELGAREJO, RUBELIO ARMANDO  Munic. San Luis del Palmar   \n",
       "12    40260       FLORENTIN, GLORIA AMADA             Munic. Mercedes   \n",
       "13    40260       FLORENTIN, GLORIA AMADA             Munic. Mercedes   \n",
       "14    40260       FLORENTIN, GLORIA AMADA             Munic. Mercedes   \n",
       "15    52893      DE LOS SANTOS, JOSE LUIS             Munic. Mercedes   \n",
       "16    52893      DE LOS SANTOS, JOSE LUIS             Munic. Mercedes   \n",
       "17    52893      DE LOS SANTOS, JOSE LUIS             Munic. Mercedes   \n",
       "18    59182    ACOSTA, MERCEDES HORTENCIA  Munic. San Luis del Palmar   \n",
       "19    59864         RAMIREZ, ELSA BEATRIZ  Munic. San Luis del Palmar   \n",
       "20    63119        MEDINA, CALIXTA ISABEL  Munic. San Luis del Palmar   \n",
       "21    72183   OBREGON, HAIDE HERMEREGILDA  Munic. San Luis del Palmar   \n",
       "22    73683          NAVARRO, CARLOS LUIS  Munic. San Luis del Palmar   \n",
       "23    77266  SUC.GRIGOLATTO, JORGE RAFAEL  Munic. San Luis del Palmar   \n",
       "24    78083       MAIDANA, EDUARDO ANDRES  Munic. San Luis del Palmar   \n",
       "25    79310            SELDES, JOSE JULIO             Munic. Mercedes   \n",
       "26    79310            SELDES, JOSE JULIO             Munic. Mercedes   \n",
       "27    79310            SELDES, JOSE JULIO             Munic. Mercedes   \n",
       "28    79594    COLOMBI, ARTURO ALEJANDRO              Munic. Mercedes   \n",
       "29    79594    COLOMBI, ARTURO ALEJANDRO              Munic. Mercedes   \n",
       "30    79594    COLOMBI, ARTURO ALEJANDRO              Munic. Mercedes   \n",
       "31    80225            SOLIS, JULIO CESAR  Munic. San Luis del Palmar   \n",
       "32    80269       ALMIRON, DOLORES ISAAC   Munic. San Luis del Palmar   \n",
       "33    80312        AVALOS, CARLOS ROBERTO             Munic. Mercedes   \n",
       "34    80352     RAMIREZ, JOSE RAMON LUIS   Munic. San Luis del Palmar   \n",
       "\n",
       "       CUOTA  RETRO_DESDE  RETRO_HASTA  APLICARDESDE  APLICARHASTA  \n",
       "0  128032.90        45566        45689         45717         45717  \n",
       "1   89924.77        45597        45689         45717         45717  \n",
       "2   55444.54        45689        45689         45717         45717  \n",
       "3  126487.88        45566        45689         45717         45717  \n",
       "4   88839.61        45597        45689         45717         45717  \n",
       "5   54775.47        45689        45689         45717         45717  \n",
       "6   40398.87        45689        45689         45717         45717  \n",
       "7   75801.11        45689        45689         45717         45717  \n",
       "8  448154.63        45566        45689         45717         45717  \n",
       "9  314764.40        45597        45689         45717         45717  \n",
       "10 194072.98        45689        45689         45717         45717  \n",
       "11   6131.91        45689        45689         45717         45717  \n",
       "12 182152.93        45566        45689         45717         45717  \n",
       "13 127936.33        45597        45689         45717         45717  \n",
       "14  78881.17        45689        45689         45717         45717  \n",
       "15 273907.75        45566        45689         45717         45717  \n",
       "16 192380.94        45597        45689         45717         45717  \n",
       "17 118615.52        45689        45689         45717         45717  \n",
       "18  32151.02        45689        45689         45717         45717  \n",
       "19  30651.94        45689        45689         45717         45717  \n",
       "20  35208.88        45689        45689         45717         45717  \n",
       "21  26632.84        45689        45689         45717         45717  \n",
       "22  30663.75        45689        45689         45717         45717  \n",
       "23  38938.72        45689        45689         45717         45717  \n",
       "24  37279.01        45689        45689         45717         45717  \n",
       "25  79913.45        45566        45689         45717         45717  \n",
       "26  56127.75        45597        45689         45717         45717  \n",
       "27  34606.45        45689        45689         45717         45717  \n",
       "28 550303.58        45566        45689         45717         45717  \n",
       "29 386509.40        45597        45689         45717         45717  \n",
       "30 238308.50        45689        45689         45717         45717  \n",
       "31  31931.83        45689        45689         45717         45717  \n",
       "32  36623.93        45689        45689         45717         45717  \n",
       "33  60909.96        45689        45689         45717         45717  \n",
       "34  48179.76        45689        45689         45717         45717  "
      ]
     },
     "execution_count": 18,
     "metadata": {},
     "output_type": "execute_result"
    }
   ],
   "source": [
    "calculos"
   ]
  },
  {
   "cell_type": "code",
   "execution_count": null,
   "metadata": {
    "jupyter": {
     "source_hidden": true
    }
   },
   "outputs": [],
   "source": []
  }
 ],
 "metadata": {
  "celltoolbar": "Tags",
  "kernelspec": {
   "display_name": ".venv",
   "language": "python",
   "name": "python3"
  },
  "language_info": {
   "codemirror_mode": {
    "name": "ipython",
    "version": 3
   },
   "file_extension": ".py",
   "mimetype": "text/x-python",
   "name": "python",
   "nbconvert_exporter": "python",
   "pygments_lexer": "ipython3",
   "version": "3.12.6"
  },
  "toc-showcode": false,
  "toc-showtags": false
 },
 "nbformat": 4,
 "nbformat_minor": 4
}
