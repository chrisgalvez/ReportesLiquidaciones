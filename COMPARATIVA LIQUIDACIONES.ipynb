{
 "cells": [
  {
   "cell_type": "markdown",
   "metadata": {
    "editable": true,
    "slideshow": {
     "slide_type": ""
    },
    "tags": []
   },
   "source": [
    "# CHEQUEOS POST LIQUIDACION"
   ]
  },
  {
   "cell_type": "markdown",
   "metadata": {
    "editable": true,
    "jp-MarkdownHeadingCollapsed": true,
    "slideshow": {
     "slide_type": ""
    },
    "tags": []
   },
   "source": [
    "#### Obtencion de Datos"
   ]
  },
  {
   "cell_type": "markdown",
   "metadata": {
    "tags": []
   },
   "source": [
    "### Importaciones"
   ]
  },
  {
   "cell_type": "code",
   "execution_count": 144,
   "metadata": {
    "editable": true,
    "slideshow": {
     "slide_type": ""
    },
    "tags": []
   },
   "outputs": [],
   "source": [
    "from decouple import config\n",
    "import pyodbc as mssql\n",
    "import numpy as np\n",
    "import pandas as pd\n",
    "from datetime import datetime\n",
    "\n",
    "%config IPCompleter.greedy=True\n",
    "pd.set_option('display.float_format', lambda x: '%.2f' % x)\n",
    "from IPython.display import Markdown as md\n",
    "import xlsxwriter as xw\n",
    "\n",
    "import warnings\n",
    "warnings.filterwarnings('ignore')\n"
   ]
  },
  {
   "cell_type": "markdown",
   "metadata": {
    "editable": true,
    "slideshow": {
     "slide_type": ""
    },
    "tags": []
   },
   "source": [
    "#### Parámetros para el cálculo"
   ]
  },
  {
   "cell_type": "code",
   "execution_count": 145,
   "metadata": {
    "editable": true,
    "jupyter": {
     "source_hidden": true
    },
    "slideshow": {
     "slide_type": ""
    },
    "tags": [
     "hide-input"
    ]
   },
   "outputs": [],
   "source": [
    "LIQUIDACION = config(\"LIQUIDACION\") #, default=\"{ye:0000}-{mo:0>2}\".format(ye=datetime.now().year, mo=datetime.now().month)) \n",
    "MINIMO_GENERAL = config(\"MINIMO_GENERAL\", 0.0, cast=float)\n",
    "MINIMO_POLICIAS = config(\"MINIMO_POLICIAS\", 0.0, cast=float)\n",
    "PROMEDIO_INCREMENTOS = config(\"INCREMENTO_MEDIO\", default=0.1, cast=float)\n",
    "EXCLUIR_REPARTICIONES_MINIMO_GARANTIZADO = [17, 26]\n",
    "\n",
    "codigos_bruto = ['0N','0P','RF','0Q','0S','0R','XX','MX','PC','QC','TC','U0','OC','LC','PX','YX','NX','MC','SP','PE','W1','W3','W5','W7','WC','WS','WI','WP','WV','WL','WD','WA','WT','WW','WE','WF','WU','WG','WH']\n",
    "\n"
   ]
  },
  {
   "cell_type": "code",
   "execution_count": null,
   "metadata": {
    "editable": true,
    "slideshow": {
     "slide_type": ""
    },
    "tags": []
   },
   "outputs": [],
   "source": []
  },
  {
   "cell_type": "code",
   "execution_count": 146,
   "metadata": {
    "editable": true,
    "slideshow": {
     "slide_type": ""
    },
    "tags": []
   },
   "outputs": [],
   "source": [
    "# archivo de salida\n",
    "writer = pd.ExcelWriter(\"resultados/Resumen_actual_contra_\" + LIQUIDACION + \".xlsx\", \"xlsxwriter\")\n",
    "wb = writer.book\n",
    "\n",
    "formato_moneda = wb.add_format({'num_format': '$ #,##0.00'})\n",
    "formato_porcentaje = wb.add_format({'num_format': '#,##0.00 %'})\n",
    "formato_fecha = wb.add_format({'num_format': 'dd/mm/yyyy'})"
   ]
  },
  {
   "cell_type": "code",
   "execution_count": 147,
   "metadata": {
    "editable": true,
    "slideshow": {
     "slide_type": ""
    },
    "tags": []
   },
   "outputs": [],
   "source": [
    "SERVER = config(\"SERVIDOR\", \"IPSBD\") #\"IPSBD\"\n",
    "conn = mssql.connect(f\"DRIVER={{SQL SERVER}};SERVER={SERVER};DATABASE=LIQUIDACION;;Trusted_Connection=Yes;\")"
   ]
  },
  {
   "cell_type": "markdown",
   "metadata": {
    "tags": []
   },
   "source": [
    "#### Obtención de la fecha de alta de la liquidacion seleccionada"
   ]
  },
  {
   "cell_type": "code",
   "execution_count": 148,
   "metadata": {
    "jupyter": {
     "source_hidden": true
    },
    "tags": []
   },
   "outputs": [],
   "source": [
    "from datetime import datetime\n",
    "altas_desde = ''\n",
    "altas_desde = pd.read_sql(f\"\"\"SELECT create_date FROM SYS.DATABASES\n",
    "WHERE NAME like '%{LIQUIDACION}%'\"\"\",conn)[\"create_date\"][0].strftime('%d/%m/%Y')"
   ]
  },
  {
   "cell_type": "markdown",
   "metadata": {
    "tags": []
   },
   "source": [
    "#### Obtención de Datos Generales"
   ]
  },
  {
   "cell_type": "code",
   "execution_count": 149,
   "metadata": {
    "jupyter": {
     "source_hidden": true
    },
    "tags": []
   },
   "outputs": [],
   "source": [
    "codigos = pd.read_sql( \"SELECT * FROM CODIGOS\", conn, index_col=\"CODIGO\")\n",
    "reparticion = pd.read_sql( \"SELECT * FROM REPARTICION\", conn, index_col=\"Cod\" )\n",
    "tipos_beneficio = pd.read_sql ( \"SELECT * FROM BENEFICIO\", conn, index_col=\"Cod\" )\n",
    "codigos_bruto_minimo = pd.read_sql(\"SELECT CODIGO FROM CODIGOS WHERE TIPO='C' AND BRUTO_MINIMO=1\", conn)\n",
    "codigos_minimo = codigos_bruto_minimo[\"CODIGO\"]\n",
    "\n",
    "### \n",
    "### Auditorias desde la fecha de creacion de la liquidacion de referencia\n",
    "### para ser excluidas de la comparativa, por ser casos de \"desvio\" a los generales\n",
    "### \n",
    "auditorias = pd.read_sql( \"\"\"SELECT CONTROL FROM AUDIT A WHERE A.ORIGEN='D' AND \n",
    "A.FECHA > CONVERT(int, CONVERT(datetime, '{altas_desde}'))+2\"\"\".format(altas_desde=altas_desde), conn, index_col=\"CONTROL\")\n",
    "\n",
    "beneficios = pd.read_sql( \"\"\"SELECT CONTROL, PLLA, ORDEN, AFILIADO, BENEFICIO, COD_BENEFICIO, LETRA,\n",
    "CASE WHEN COD_BENEFICIO in (7,25,27,29) then DBO.PORCENTAJE_COMPARTIDA(CONTROL) ELSE 1 END AS PORCENTAJE\n",
    "FROM Liquidacion.dbo.DatosAfiliado\n",
    "WHERE HABILITADO='S'\"\"\", conn, index_col=\"CONTROL\")\n",
    "beneficios[[\"COD_BENEFICIO\"]]=beneficios[[\"COD_BENEFICIO\"]].astype(\"int64\")\n",
    "\n",
    "### Excluímos las auditorias de altas y modificaciones para evitar las \"deformaciones\"\n",
    "beneficios_sin_altas = beneficios[~beneficios.index.isin(auditorias.index)]\n",
    "\n",
    "liquidacion_ben = pd.read_sql(\"\"\" SELECT * FROM LIQUIDACION.DBO.LIQUIDACION\"\"\", conn, index_col=[\"PLLA\", \"ORDEN\", \"AFILIADO\"])\n",
    "beneficios_liq = pd.read_sql(\"SELECT * FROM [{liquidacion}].DBO.DATOSAFILIADO\".format(liquidacion=LIQUIDACION), \\\n",
    "                             conn, index_col=[\"CONTROL\"])\n",
    "liquidacion_liq = pd.read_sql(\"SELECT * FROM [{liquidacion}].DBO.LIQUIDACION\".format(liquidacion=LIQUIDACION), \\\n",
    "                                conn, index_col=[\"PLLA\", \"ORDEN\", \"AFILIADO\"])\n",
    "\n"
   ]
  },
  {
   "cell_type": "markdown",
   "metadata": {
    "tags": []
   },
   "source": [
    "### Determinacion de brutos"
   ]
  },
  {
   "cell_type": "markdown",
   "metadata": {
    "tags": []
   },
   "source": [
    "#### Determinacion de los brutos actuales"
   ]
  },
  {
   "cell_type": "code",
   "execution_count": 150,
   "metadata": {
    "jupyter": {
     "source_hidden": true
    },
    "tags": []
   },
   "outputs": [],
   "source": [
    "### determinacion de la tabla de brutos de liquidacion activa\n",
    "brutos_act = beneficios_sin_altas.reset_index().merge(liquidacion_ben, left_on=[\"PLLA\", \"ORDEN\", \"AFILIADO\"],\\\n",
    "                              right_on=[\"PLLA\", \"ORDEN\", \"AFILIADO\"])\n",
    "brutos_act = brutos_act[brutos_act[\"CODIGO\"].isin(codigos_bruto)].groupby([\"CONTROL\"]).sum(\"MONTO\")[[\"MONTO\"]]\n",
    "# agrego aquellos que no tienen codigos de bruto\n",
    "brutos_act = brutos_act.join(beneficios_sin_altas,  how=\"outer\")\n",
    "brutos_act[\"MONTO\"].fillna(value=0.0, inplace=True)\n",
    "brutos_act[\"BRUTO\"] = brutos_act[\"MONTO\"] + brutos_act[\"BENEFICIO\"]\n",
    "# dejo solo la columna del bruto recien calculada\n",
    "brutos_act=brutos_act[[\"BRUTO\",\"BENEFICIO\", \"COD_BENEFICIO\", \"LETRA\"]]"
   ]
  },
  {
   "cell_type": "markdown",
   "metadata": {
    "tags": []
   },
   "source": [
    "#### Determinación de los brutos de referencia"
   ]
  },
  {
   "cell_type": "code",
   "execution_count": 151,
   "metadata": {
    "jupyter": {
     "source_hidden": true
    },
    "tags": []
   },
   "outputs": [],
   "source": [
    "###determinacion de la tabla de brutos de la liquidacion de referencia \n",
    "brutos_liq = beneficios_liq.join(liquidacion_liq, on=[\"PLLA\",\"ORDEN\",\"AFILIADO\"],how=\"inner\", rsuffix=\".LIQ\")\\\n",
    "        .join(codigos, on=[\"CODIGO\"], how=\"inner\", rsuffix=\".COD\")\n",
    "#brutos_liq = brutos_liq[brutos_liq[\"CODIGO\"].isin(codigos_bruto)].groupby(by=\"CONTROL\").sum()[[\"MONTO\"]]\n",
    "\n",
    "brutos_liq.drop(columns=[\"CONTROL\"], axis=1, inplace=True)\n",
    "brutos_liq = brutos_liq[brutos_liq[\"CODIGO\"].isin(codigos_bruto)].groupby(by=\"CONTROL\").sum(\"MONTO\")\n"
   ]
  },
  {
   "cell_type": "code",
   "execution_count": 152,
   "metadata": {
    "jupyter": {
     "source_hidden": true
    }
   },
   "outputs": [],
   "source": [
    "brutos_liq = brutos_liq.join(beneficios_liq, on=\"CONTROL\", how=\"outer\", lsuffix=\"br_l\" )\n",
    "brutos_liq[\"MONTO\"].fillna(value=0.0, inplace=True)\n",
    "brutos_liq[\"BRUTO\"] = brutos_liq[\"MONTO\"] + brutos_liq[\"BENEFICIO\"]\n",
    "\n",
    "brutos_liq=brutos_liq[[\"CONTROL\", \"BRUTO\", \"BENEFICIO\"]]\n",
    "brutos_liq.set_index(keys=\"CONTROL\", inplace=True)\n",
    "brutos_liq=brutos_liq.sort_values(by=\"CONTROL\")"
   ]
  },
  {
   "cell_type": "markdown",
   "metadata": {
    "tags": []
   },
   "source": [
    "### Comparativa de Brutos y Beneficios"
   ]
  },
  {
   "cell_type": "code",
   "execution_count": 153,
   "metadata": {
    "jupyter": {
     "source_hidden": true
    },
    "tags": []
   },
   "outputs": [
    {
     "data": {
      "text/plain": [
       "0"
      ]
     },
     "execution_count": 153,
     "metadata": {},
     "output_type": "execute_result"
    }
   ],
   "source": [
    "###  comparativa \n",
    "\n",
    "brutos = brutos_liq.join( brutos_act, lsuffix=\"_liq\", rsuffix=\"_act\" )\n",
    "brutos[\"DIF_BRUTOS\"] = (brutos[\"BRUTO_act\"]-brutos[\"BRUTO_liq\"])/brutos[\"BRUTO_liq\"]\n",
    "brutos[\"DIF_BENEFICIOS\"] = (brutos[\"BENEFICIO_act\"]-brutos[\"BENEFICIO_liq\"])/brutos[\"BENEFICIO_liq\"]\n",
    "diferencia_brutos=brutos.loc[(brutos[\"DIF_BRUTOS\"] > 0.0) | \\\n",
    "                             (brutos[\"DIF_BENEFICIOS\"] > 0.0), [\"LETRA\", \"COD_BENEFICIO\", \"DIF_BRUTOS\",\"DIF_BENEFICIOS\", ]] \\\n",
    "                            .sort_values(by=\"DIF_BRUTOS\", ascending=False)\n",
    "diferencia_brutos=diferencia_brutos.astype({ 'LETRA' : 'int32', 'COD_BENEFICIO' : 'int32'})\n",
    "diferencia_brutos=diferencia_brutos.join(reparticion, on=\"LETRA\", how=\"inner\", lsuffix=\".db\", rsuffix=\".rep\")\n",
    "diferencia_brutos=diferencia_brutos.join(tipos_beneficio, on=\"COD_BENEFICIO\", how=\"inner\", lsuffix=\".db\", rsuffix=\".tb\")\n",
    "diferencia_brutos=diferencia_brutos[[\"Detalle.db\", \"Detalle.tb\", \"DIF_BRUTOS\", \"DIF_BENEFICIOS\" ]] \\\n",
    "    .rename(columns={\"Detalle.db\":\"Reparticion\", \"Detalle.tb\":\"Tipo_Beneficio\"})\n",
    "diferencia_brutos=diferencia_brutos.sort_values([\"Reparticion\", \"Tipo_Beneficio\"])\n",
    "\n",
    "diferencia_brutos.to_excel(writer, \"Diferencia Brutos\",startrow=0, header=True, index=True)\n",
    "\n",
    "\n",
    "(max_row, max_col)= diferencia_brutos.shape\n",
    "column_settings = []\n",
    "column_settings = np.append(column_settings, {'header': \"CONTROL\"})\n",
    "column_settings = np.append(column_settings, [{'header': column} for column in diferencia_brutos.columns])\n",
    "\n",
    "worksheet = writer.sheets[\"Diferencia Brutos\"]\n",
    "worksheet.add_table(0, 0, max_row+1, max_col, {'columns': column_settings, 'autofilter': False, \\\n",
    "                                             'banded_rows': False, \"style\": None})\n",
    "\n",
    "worksheet.set_column(\"A:A\", 8)\n",
    "worksheet.set_column(\"B:C\", 35)\n",
    "worksheet.set_column(\"D:E\", 15, formato_porcentaje )\n",
    "\n"
   ]
  },
  {
   "cell_type": "markdown",
   "metadata": {},
   "source": [
    "#### Diferencia por reparticion"
   ]
  },
  {
   "cell_type": "code",
   "execution_count": 154,
   "metadata": {
    "jupyter": {
     "source_hidden": true
    }
   },
   "outputs": [
    {
     "data": {
      "text/plain": [
       "0"
      ]
     },
     "execution_count": 154,
     "metadata": {},
     "output_type": "execute_result"
    }
   ],
   "source": [
    "### POR REPARTICION ###\n",
    "\n",
    "inf_rep_letra = brutos.merge(reparticion, left_on=\"LETRA\", right_on=\"Cod\", how=\"inner\")\n",
    "inf_rep_letra = inf_rep_letra[['Detalle', 'BRUTO_liq', 'BENEFICIO_liq', 'BRUTO_act', 'BENEFICIO_act']].groupby(by=\"Detalle\")\\\n",
    "                    .agg({'Detalle':'count', 'BRUTO_liq': 'sum', \"BRUTO_act\": \"sum\", \"BENEFICIO_liq\": \"sum\", \"BENEFICIO_act\": \"sum\"})\n",
    "inf_rep_letra[\"DIF_BRUTOS\"] = (inf_rep_letra[\"BRUTO_act\"]-inf_rep_letra[\"BRUTO_liq\"])/inf_rep_letra[\"BRUTO_liq\"]\n",
    "inf_rep_letra[\"DIF_BENEFICIOS\"] = (inf_rep_letra[\"BENEFICIO_act\"] - inf_rep_letra[\"BENEFICIO_liq\"])/inf_rep_letra[\"BENEFICIO_liq\"]\n",
    "inf_rep_letra=inf_rep_letra[(inf_rep_letra[\"DIF_BRUTOS\"]>0.01) | (inf_rep_letra[\"DIF_BENEFICIOS\"]>0.01)]\n",
    "inf_rep_letra=inf_rep_letra.rename(columns={\"Detalle\":\"Cantidad\"})\n",
    "\n",
    "inf_rep_letra.to_excel(writer, \"Dif Brutos Por Rep\")\n",
    "\n",
    "(max_row, max_col)= inf_rep_letra.shape\n",
    "\n",
    "column_settings = []\n",
    "column_settings = np.append(column_settings, {'header': \"Reparticion\"})\n",
    "column_settings = np.append(column_settings, [{'header': column} \n",
    "    for column in  inf_rep_letra.columns])\n",
    "\n",
    "worksheet = writer.sheets[\"Dif Brutos Por Rep\"]\n",
    "worksheet.add_table(0, 0, max_row, max_col, {'columns': column_settings, \n",
    "                                        'autofilter': False, \\\n",
    "                                        'banded_rows': False, \"style\": None})\n",
    "\n",
    "worksheet.set_column(\"A:A\", 35)\n",
    "worksheet.set_column(\"B:B\", 10)\n",
    "worksheet.set_column(\"C:F\", 20, formato_moneda)\n",
    "worksheet.set_column(\"G:H\", 20, formato_porcentaje )\n",
    "\n"
   ]
  },
  {
   "cell_type": "markdown",
   "metadata": {
    "tags": []
   },
   "source": [
    "### Mínimos"
   ]
  },
  {
   "cell_type": "markdown",
   "metadata": {
    "tags": []
   },
   "source": [
    "#### Mínimos Administración Central y Organismos"
   ]
  },
  {
   "cell_type": "code",
   "execution_count": 155,
   "metadata": {
    "jupyter": {
     "source_hidden": true
    },
    "tags": []
   },
   "outputs": [],
   "source": [
    "minimos_liq = liquidacion_liq[liquidacion_liq[\"CODIGO\"].isin(codigos_minimo)]\\\n",
    "    .groupby(by=[\"PLLA\",\"ORDEN\",\"AFILIADO\"]).agg({'MONTO':'sum', 'CODIGO': lambda x: ', '.join(x.astype(str))})\n"
   ]
  },
  {
   "cell_type": "code",
   "execution_count": 156,
   "metadata": {},
   "outputs": [],
   "source": [
    "\n",
    "brutos_minimo = beneficios_liq.join(minimos_liq, on=[\"PLLA\",\"ORDEN\",\"AFILIADO\"],how=\"left\", rsuffix=\".LIQ\").\\\n",
    "    join(beneficios, on=[\"CONTROL\"], how=\"inner\", rsuffix=\".BENEF\")\n",
    "        "
   ]
  },
  {
   "cell_type": "code",
   "execution_count": 157,
   "metadata": {},
   "outputs": [],
   "source": [
    "brutos_minimo.fillna(0.0, inplace = True)\n",
    "brutos_minimo.loc[brutos_minimo[\"BENEFICIO\"] + brutos_minimo[\"MONTO\"] < MINIMO_GENERAL * brutos_minimo[\"PORCENTAJE\"], \n",
    "                  \"ZX_NUEVO\"] = round((MINIMO_GENERAL * brutos_minimo[\"PORCENTAJE\"]) - brutos_minimo[\"BENEFICIO\"] - brutos_minimo[\"MONTO\"],2)\n",
    "\n",
    "    "
   ]
  },
  {
   "cell_type": "code",
   "execution_count": 158,
   "metadata": {},
   "outputs": [],
   "source": [
    "minimos_actuales = liquidacion_liq[liquidacion_liq[\"CODIGO\"].isin(['ZX'])]\n",
    "\n",
    "brutos_minimo = brutos_minimo.join(minimos_actuales, on=[\"PLLA\",\"ORDEN\",\"AFILIADO\"],how=\"inner\", rsuffix=\".MIN_ACT\")\n",
    "\n",
    "minimos_ac = brutos_minimo[[ \"PLLA\", \"ORDEN\",\"AFILIADO\", \"MONTO\", \"CODIGO\", \"ZX_NUEVO\", \"MONTO.MIN_ACT\"]]\n",
    "\n"
   ]
  },
  {
   "cell_type": "code",
   "execution_count": 165,
   "metadata": {},
   "outputs": [
    {
     "data": {
      "application/vnd.microsoft.datawrangler.viewer.v0+json": {
       "columns": [
        {
         "name": "CONTROL",
         "rawType": "int64",
         "type": "integer"
        },
        {
         "name": "PLLA",
         "rawType": "object",
         "type": "string"
        },
        {
         "name": "ORDEN",
         "rawType": "object",
         "type": "string"
        },
        {
         "name": "AFILIADO",
         "rawType": "object",
         "type": "string"
        },
        {
         "name": "MONTO",
         "rawType": "float64",
         "type": "float"
        },
        {
         "name": "CODIGO",
         "rawType": "object",
         "type": "unknown"
        },
        {
         "name": "ZX_NUEVO",
         "rawType": "float64",
         "type": "float"
        },
        {
         "name": "MONTO.MIN_ACT",
         "rawType": "float64",
         "type": "float"
        }
       ],
       "conversionMethod": "pd.DataFrame",
       "ref": "b170e15a-2532-4f69-a249-42841cddd97d",
       "rows": [
        [
         "62791",
         "006",
         "2096",
         "50845",
         "0.0",
         "0.0",
         "193642.58",
         "197252.37"
        ],
        [
         "35816",
         "006",
         "2799",
         "51676",
         "2014.81",
         "MX, MX, NX",
         "169854.62",
         "172782.28"
        ],
        [
         "67810",
         "006",
         "4070",
         "87576",
         "0.0",
         "0.0",
         "108163.95",
         "119544.52"
        ],
        [
         "37025",
         "006",
         "4243",
         "52783",
         "1375.23",
         "MX, MX",
         "102843.74",
         "108992.85"
        ],
        [
         "67812",
         "006",
         "5798",
         "94049",
         "0.0",
         "0.0",
         "36426.46",
         "45803.78"
        ],
        [
         "68995",
         "006",
         "6027",
         "35587",
         "0.0",
         "0.0",
         "225117.89",
         "225509.91"
        ],
        [
         "40040",
         "006",
         "7017",
         "96783",
         "0.0",
         "0.0",
         "195969.88",
         "79294.76"
        ],
        [
         "75152",
         "008",
         "0025",
         "88441",
         "0.0",
         "0.0",
         "223007.38",
         "223947.64"
        ],
        [
         "9301",
         "008",
         "0220",
         "70298",
         "1572.28",
         "MX, MX",
         "217575.43",
         "220078.16"
        ],
        [
         "26449",
         "009",
         "0050",
         "97888",
         "1144.28",
         "MX, MX, NX",
         "204122.68",
         "206675.71"
        ],
        [
         "21866",
         "009",
         "0051",
         "92376",
         "1135.65",
         "MX, MX, NX",
         "203975.47",
         "206542.66"
        ],
        [
         "9625",
         "009",
         "0093",
         "87499",
         "1528.1100000000001",
         "MX, MX, NX",
         "210667.67",
         "212590.8"
        ],
        [
         "9645",
         "009",
         "0116",
         "86737",
         "1528.1100000000001",
         "MX, MX, NX",
         "210667.67",
         "212590.8"
        ],
        [
         "36921",
         "009",
         "0159",
         "71036",
         "1421.1399999999999",
         "MX, MX, NX",
         "208843.59",
         "210942.27"
        ],
        [
         "9704",
         "009",
         "0186",
         "87863",
         "1528.1100000000001",
         "MX, MX, NX",
         "210667.67",
         "212590.8"
        ],
        [
         "22700",
         "009",
         "0277",
         "93366",
         "1042.75",
         "MX, MX, NX",
         "202391.14",
         "205110.81"
        ],
        [
         "9793",
         "009",
         "0287",
         "88886",
         "1528.1100000000001",
         "MX, MX, NX",
         "210667.67",
         "212590.8"
        ],
        [
         "9800",
         "009",
         "0296",
         "89907",
         "1422.62",
         "MX, MX, NX",
         "208868.84",
         "210965.09"
        ],
        [
         "9812",
         "009",
         "0310",
         "89321",
         "1528.1100000000001",
         "MX, MX, NX",
         "210667.67",
         "212590.8"
        ],
        [
         "9823",
         "009",
         "0322",
         "89603",
         "0.0",
         "0.0",
         "91440.46",
         "104341.35"
        ],
        [
         "9840",
         "009",
         "0341",
         "91878",
         "1528.1100000000001",
         "MX, MX, NX",
         "210667.67",
         "212590.8"
        ],
        [
         "9842",
         "009",
         "0350",
         "00376",
         "1528.1100000000001",
         "MX, MX, NX",
         "210667.67",
         "212590.8"
        ],
        [
         "9865",
         "009",
         "0374",
         "90232",
         "1528.1100000000001",
         "MX, MX, NX",
         "210667.67",
         "212590.8"
        ],
        [
         "9870",
         "009",
         "0379",
         "90091",
         "1472.68",
         "MX, MX, NX",
         "209722.58",
         "211736.67"
        ],
        [
         "9871",
         "009",
         "0381",
         "90461",
         "1528.1100000000001",
         "MX, MX, NX",
         "210667.67",
         "212590.8"
        ],
        [
         "9872",
         "009",
         "0382",
         "90455",
         "1528.1100000000001",
         "MX, MX, NX",
         "210667.67",
         "212590.8"
        ],
        [
         "9886",
         "009",
         "0397",
         "91403",
         "1528.1100000000001",
         "MX, MX, NX",
         "210667.67",
         "212590.8"
        ],
        [
         "23576",
         "009",
         "0417",
         "94101",
         "1135.65",
         "MX, MX, NX",
         "203975.47",
         "206542.66"
        ],
        [
         "24461",
         "009",
         "0437",
         "92406",
         "0.0",
         "0.0",
         "81786.55",
         "95565.07"
        ],
        [
         "24507",
         "009",
         "0441",
         "95260",
         "0.0",
         "0.0",
         "43206.44",
         "60492.24"
        ],
        [
         "24550",
         "009",
         "0443",
         "78154",
         "1786.9",
         "MX, MX, NX",
         "215080.18",
         "216578.65"
        ],
        [
         "26038",
         "009",
         "0488",
         "96690",
         "0.0",
         "0.0",
         "42602.34",
         "59943.06"
        ],
        [
         "26706",
         "009",
         "0506",
         "97644",
         "0.34",
         "NX",
         "184616.58",
         "189046.88"
        ],
        [
         "26705",
         "009",
         "0507",
         "97654",
         "0.0",
         "0.0",
         "175571.4",
         "180824.02"
        ],
        [
         "30423",
         "009",
         "0561",
         "98943",
         "794.82",
         "MX, NX",
         "198163.48",
         "201290.02"
        ],
        [
         "30690",
         "009",
         "0567",
         "91658",
         "1526.71",
         "MX, MX, NX",
         "210643.41",
         "212568.88"
        ],
        [
         "31918",
         "009",
         "0589",
         "01097",
         "1917.0900000000001",
         "MX, MX, NX",
         "217300.29",
         "218585.1"
        ],
        [
         "31976",
         "009",
         "0592",
         "93742",
         "1526.7199999999998",
         "MX, MX, NX",
         "210643.68",
         "212569.12"
        ],
        [
         "35723",
         "009",
         "0600",
         "51601",
         "1351.42",
         "MX, MX, NX",
         "207654.77",
         "209867.87"
        ],
        [
         "40478",
         "009",
         "0605",
         "93741",
         "0.0",
         "0.0",
         "210594.36",
         "212663.08"
        ],
        [
         "40833",
         "009",
         "0609",
         "60812",
         "0.0",
         "0.0",
         "166069.73",
         "172186.14"
        ],
        [
         "39649",
         "009",
         "0625",
         "92377",
         "0.0",
         "0.0",
         "213108.16",
         "214948.35"
        ],
        [
         "60897",
         "009",
         "0645",
         "61886",
         "0.0",
         "0.0",
         "105459.26",
         "117085.71"
        ],
        [
         "62939",
         "009",
         "0654",
         "36313",
         "0.0",
         "0.0",
         "91149.4",
         "104076.75"
        ],
        [
         "67457",
         "009",
         "0659",
         "63503",
         "0.0",
         "0.0",
         "139404.11",
         "147944.67"
        ],
        [
         "71578",
         "009",
         "0667",
         "62034",
         "0.0",
         "0.0",
         "60590.21",
         "76295.67"
        ],
        [
         "69213",
         "009",
         "0674",
         "89994",
         "0.0",
         "0.0",
         "16491.08",
         "36205.55"
        ],
        [
         "36460",
         "009",
         "0706",
         "40537",
         "1250.0",
         "MX, MX, NX",
         "205925.46",
         "208304.99"
        ],
        [
         "67558",
         "009",
         "0724",
         "37133",
         "0.0",
         "0.0",
         "71676.6",
         "86374.2"
        ],
        [
         "72272",
         "009",
         "0727",
         "37686",
         "0.0",
         "0.0",
         "109679.66",
         "120922.44"
        ]
       ],
       "shape": {
        "columns": 7,
        "rows": 167
       }
      },
      "text/html": [
       "<div>\n",
       "<style scoped>\n",
       "    .dataframe tbody tr th:only-of-type {\n",
       "        vertical-align: middle;\n",
       "    }\n",
       "\n",
       "    .dataframe tbody tr th {\n",
       "        vertical-align: top;\n",
       "    }\n",
       "\n",
       "    .dataframe thead th {\n",
       "        text-align: right;\n",
       "    }\n",
       "</style>\n",
       "<table border=\"1\" class=\"dataframe\">\n",
       "  <thead>\n",
       "    <tr style=\"text-align: right;\">\n",
       "      <th></th>\n",
       "      <th>PLLA</th>\n",
       "      <th>ORDEN</th>\n",
       "      <th>AFILIADO</th>\n",
       "      <th>MONTO</th>\n",
       "      <th>CODIGO</th>\n",
       "      <th>ZX_NUEVO</th>\n",
       "      <th>MONTO.MIN_ACT</th>\n",
       "    </tr>\n",
       "    <tr>\n",
       "      <th>CONTROL</th>\n",
       "      <th></th>\n",
       "      <th></th>\n",
       "      <th></th>\n",
       "      <th></th>\n",
       "      <th></th>\n",
       "      <th></th>\n",
       "      <th></th>\n",
       "    </tr>\n",
       "  </thead>\n",
       "  <tbody>\n",
       "    <tr>\n",
       "      <th>62791</th>\n",
       "      <td>006</td>\n",
       "      <td>2096</td>\n",
       "      <td>50845</td>\n",
       "      <td>0.00</td>\n",
       "      <td>0.00</td>\n",
       "      <td>193642.58</td>\n",
       "      <td>197252.37</td>\n",
       "    </tr>\n",
       "    <tr>\n",
       "      <th>35816</th>\n",
       "      <td>006</td>\n",
       "      <td>2799</td>\n",
       "      <td>51676</td>\n",
       "      <td>2014.81</td>\n",
       "      <td>MX, MX, NX</td>\n",
       "      <td>169854.62</td>\n",
       "      <td>172782.28</td>\n",
       "    </tr>\n",
       "    <tr>\n",
       "      <th>67810</th>\n",
       "      <td>006</td>\n",
       "      <td>4070</td>\n",
       "      <td>87576</td>\n",
       "      <td>0.00</td>\n",
       "      <td>0.00</td>\n",
       "      <td>108163.95</td>\n",
       "      <td>119544.52</td>\n",
       "    </tr>\n",
       "    <tr>\n",
       "      <th>37025</th>\n",
       "      <td>006</td>\n",
       "      <td>4243</td>\n",
       "      <td>52783</td>\n",
       "      <td>1375.23</td>\n",
       "      <td>MX, MX</td>\n",
       "      <td>102843.74</td>\n",
       "      <td>108992.85</td>\n",
       "    </tr>\n",
       "    <tr>\n",
       "      <th>67812</th>\n",
       "      <td>006</td>\n",
       "      <td>5798</td>\n",
       "      <td>94049</td>\n",
       "      <td>0.00</td>\n",
       "      <td>0.00</td>\n",
       "      <td>36426.46</td>\n",
       "      <td>45803.78</td>\n",
       "    </tr>\n",
       "    <tr>\n",
       "      <th>...</th>\n",
       "      <td>...</td>\n",
       "      <td>...</td>\n",
       "      <td>...</td>\n",
       "      <td>...</td>\n",
       "      <td>...</td>\n",
       "      <td>...</td>\n",
       "      <td>...</td>\n",
       "    </tr>\n",
       "    <tr>\n",
       "      <th>59132</th>\n",
       "      <td>035</td>\n",
       "      <td>0105</td>\n",
       "      <td>57132</td>\n",
       "      <td>0.00</td>\n",
       "      <td>0.00</td>\n",
       "      <td>229947.65</td>\n",
       "      <td>230210.74</td>\n",
       "    </tr>\n",
       "    <tr>\n",
       "      <th>75264</th>\n",
       "      <td>035</td>\n",
       "      <td>0111</td>\n",
       "      <td>88480</td>\n",
       "      <td>0.00</td>\n",
       "      <td>0.00</td>\n",
       "      <td>202941.16</td>\n",
       "      <td>205292.41</td>\n",
       "    </tr>\n",
       "    <tr>\n",
       "      <th>74790</th>\n",
       "      <td>035</td>\n",
       "      <td>0211</td>\n",
       "      <td>41141</td>\n",
       "      <td>0.00</td>\n",
       "      <td>0.00</td>\n",
       "      <td>202321.34</td>\n",
       "      <td>204720.51</td>\n",
       "    </tr>\n",
       "    <tr>\n",
       "      <th>32241</th>\n",
       "      <td>038</td>\n",
       "      <td>0133</td>\n",
       "      <td>10079</td>\n",
       "      <td>1998.65</td>\n",
       "      <td>MX, MX, NX</td>\n",
       "      <td>229528.04</td>\n",
       "      <td>229673.68</td>\n",
       "    </tr>\n",
       "    <tr>\n",
       "      <th>38958</th>\n",
       "      <td>038</td>\n",
       "      <td>0152</td>\n",
       "      <td>55345</td>\n",
       "      <td>2331.00</td>\n",
       "      <td>MX, NX</td>\n",
       "      <td>230059.81</td>\n",
       "      <td>230136.44</td>\n",
       "    </tr>\n",
       "  </tbody>\n",
       "</table>\n",
       "<p>167 rows × 7 columns</p>\n",
       "</div>"
      ],
      "text/plain": [
       "        PLLA ORDEN AFILIADO   MONTO      CODIGO  ZX_NUEVO  MONTO.MIN_ACT\n",
       "CONTROL                                                                 \n",
       "62791    006  2096    50845    0.00        0.00 193642.58      197252.37\n",
       "35816    006  2799    51676 2014.81  MX, MX, NX 169854.62      172782.28\n",
       "67810    006  4070    87576    0.00        0.00 108163.95      119544.52\n",
       "37025    006  4243    52783 1375.23      MX, MX 102843.74      108992.85\n",
       "67812    006  5798    94049    0.00        0.00  36426.46       45803.78\n",
       "...      ...   ...      ...     ...         ...       ...            ...\n",
       "59132    035  0105    57132    0.00        0.00 229947.65      230210.74\n",
       "75264    035  0111    88480    0.00        0.00 202941.16      205292.41\n",
       "74790    035  0211    41141    0.00        0.00 202321.34      204720.51\n",
       "32241    038  0133    10079 1998.65  MX, MX, NX 229528.04      229673.68\n",
       "38958    038  0152    55345 2331.00      MX, NX 230059.81      230136.44\n",
       "\n",
       "[167 rows x 7 columns]"
      ]
     },
     "execution_count": 165,
     "metadata": {},
     "output_type": "execute_result"
    }
   ],
   "source": [
    "minimos_ac[abs(minimos_ac[\"ZX_NUEVO\"]-minimos_ac[\"MONTO.MIN_ACT\"]) > 1.0]"
   ]
  },
  {
   "cell_type": "markdown",
   "metadata": {
    "tags": []
   },
   "source": [
    "#### Mínimos Retiros Policiales y Carcelarios"
   ]
  },
  {
   "cell_type": "code",
   "execution_count": 160,
   "metadata": {
    "jupyter": {
     "source_hidden": true
    }
   },
   "outputs": [],
   "source": [
    "#minimos[(minimos[\"Minimo\"] >= 2500) & (minimos[\"Minimo\"] <= 2502.5)]"
   ]
  },
  {
   "cell_type": "code",
   "execution_count": 161,
   "metadata": {
    "jupyter": {
     "source_hidden": true
    },
    "tags": [
     "hide-input"
    ]
   },
   "outputs": [],
   "source": [
    "# minimos = beneficios.join( beneficios_liq, on=\"CONTROL\", lsuffix=\".BEN\", rsuffix=\".BENLIQ\" )\\\n",
    "#             .join(reparticion, on=\"LETRA\" , rsuffix=\".REP\", )\\\n",
    "#             .join(brutos, on=\"CONTROL\", rsuffix=\".BRT\")\\\n",
    "#             .join(tipos_beneficio, on=\"COD_BENEFICIO\", rsuffix=\".tb\")\n",
    "            \n",
    "\n",
    "# minimos[minimos[\"BRUTO_act\"] < minimo_policias]\n",
    "# minimos[\"PX_act\"] = np.where((minimos[\"LETRA\"].isin([17,26]) & (minimos[\"BRUTO_act\"] < minimo_policias*minimos[\"PORCENTAJE\"])), minimo_policias*minimos[\"PORCENTAJE\"]-minimos[\"BRUTO_act\"], 0.0)\n",
    "# minimos.fillna(0, inplace=True)\n",
    "\n",
    "# minimos_pagados = beneficios_liq.join(liquidacion_liq, on=[\"PLLA\",\"ORDEN\",\"AFILIADO\"],how=\"inner\", rsuffix=\".LIQ\")\\\n",
    "#         .join(codigos, on=[\"CODIGO\"], how=\"inner\", rsuffix=\".COD\")\n",
    "\n",
    "# minimos_pagados=minimos_pagados.loc[minimos_pagados[\"CODIGO\"].isin(['PX']), [\"MONTO\"]]\\\n",
    "#         .groupby(\"CONTROL\").sum(\"MONTO\")\n",
    "\n",
    "# minimos=minimos.join(minimos_pagados, on=\"CONTROL\", rsuffix=\".MINPAG\").rename(columns={\"MONTO\":\"PX_liq\", \"Detalle\":\"Reparticion\", \"Detalle.tb\":\"TIPO_BEN\"})\n",
    "# minimos.fillna(0.0, inplace=True)\n",
    "\n",
    "# minimos=minimos.loc[(np.abs(minimos[\"PX_act\"]-minimos[\"PX_liq\"])>1)  ,[\"Reparticion\", \"TIPO_BEN\", \"BRUTO_act\", \"PX_act\", \"BRUTO_liq\", \"PX_liq\"]]\n",
    "\n",
    "# #minimos.to_excel(writer, \"Minimos Retiros Policiales\")\n",
    "\n"
   ]
  },
  {
   "cell_type": "markdown",
   "metadata": {
    "tags": []
   },
   "source": [
    "## Retroactivos\n"
   ]
  },
  {
   "cell_type": "code",
   "execution_count": 162,
   "metadata": {
    "jupyter": {
     "source_hidden": true
    }
   },
   "outputs": [
    {
     "data": {
      "text/plain": [
       "0"
      ]
     },
     "execution_count": 162,
     "metadata": {},
     "output_type": "execute_result"
    }
   ],
   "source": [
    "calculos = pd.read_sql(\"\"\"SELECT D.CONTROL, D.NOMBRE, R.DETALLE AS REPARTICINO, DC.VALOR CUOTA, DC.FINI RETRO_DESDE, \n",
    "            DC.FFIN RETRO_HASTA, APLICARDESDE, APLICARHASTA\n",
    "            FROM DATOSAFILIADO D INNER JOIN\n",
    "            CALCULOS C ON C.CONTROL=D.CONTROL\n",
    "            INNER JOIN DATCALCULOS DC ON DC.CODLIQ=C.CODLIQ\n",
    "            INNER JOIN REPARTICION R ON R.COD=D.LETRA\n",
    "            INNER JOIN PLANES P ON P.CODLIQ=C.CODLIQ\n",
    "            WHERE MONTH(CONVERT(DATETIME, C.FECHA+2))=MONTH(GETDATE()) AND YEAR(CONVERT(DATETIME, C.FECHA+2))=YEAR(GETDATE())\n",
    "            AND USUARIO = 'SISTEMAS'\"\"\", conn)\n",
    "\n",
    "calculos.to_excel(writer, \"Retroactivos_incrementos\")\n",
    "\n",
    "ws = writer.sheets[\"Retroactivos_incrementos\"]\n",
    "ws.set_column(\"E:H\", 15, formato_fecha )\n"
   ]
  },
  {
   "cell_type": "markdown",
   "metadata": {
    "tags": []
   },
   "source": [
    "## Cerrar archivo excel y guardar"
   ]
  },
  {
   "cell_type": "code",
   "execution_count": 163,
   "metadata": {
    "jupyter": {
     "source_hidden": true
    }
   },
   "outputs": [],
   "source": [
    "### Guardado y cierre del archivo excel\n",
    "writer.close()"
   ]
  },
  {
   "cell_type": "code",
   "execution_count": 164,
   "metadata": {
    "jupyter": {
     "source_hidden": true
    }
   },
   "outputs": [
    {
     "data": {
      "application/vnd.microsoft.datawrangler.viewer.v0+json": {
       "columns": [
        {
         "name": "index",
         "rawType": "int64",
         "type": "integer"
        },
        {
         "name": "CONTROL",
         "rawType": "int64",
         "type": "integer"
        },
        {
         "name": "NOMBRE",
         "rawType": "object",
         "type": "string"
        },
        {
         "name": "REPARTICINO",
         "rawType": "object",
         "type": "string"
        },
        {
         "name": "CUOTA",
         "rawType": "float64",
         "type": "float"
        },
        {
         "name": "RETRO_DESDE",
         "rawType": "int64",
         "type": "integer"
        },
        {
         "name": "RETRO_HASTA",
         "rawType": "int64",
         "type": "integer"
        },
        {
         "name": "APLICARDESDE",
         "rawType": "int64",
         "type": "integer"
        },
        {
         "name": "APLICARHASTA",
         "rawType": "int64",
         "type": "integer"
        }
       ],
       "conversionMethod": "pd.DataFrame",
       "ref": "76e38181-0cee-4414-81b0-7f0e1d12e531",
       "rows": [
        [
         "0",
         "30340",
         "ESQUIVEL TERESA ",
         "Munic. Santo Tomé",
         "38353.0",
         "45748",
         "45748",
         "45778",
         "45778"
        ],
        [
         "1",
         "34641",
         "AZAME,  PETRONA CATALINA",
         "Munic. Santo Tomé",
         "18076.6",
         "45748",
         "45748",
         "45778",
         "45778"
        ],
        [
         "2",
         "36345",
         "SUC. BRANDAN, REGINALDO ANTONIO",
         "Munic. Santo Tomé",
         "109881.41",
         "45748",
         "45748",
         "45778",
         "45778"
        ],
        [
         "3",
         "40962",
         "BORRA, LUCIA MABEL",
         "Munic. Santo Tomé",
         "114737.75",
         "45748",
         "45748",
         "45778",
         "45778"
        ],
        [
         "4",
         "56815",
         "CORDOBES, MARIA ITATI",
         "Munic. Santo Tomé",
         "18693.75",
         "45748",
         "45748",
         "45778",
         "45778"
        ],
        [
         "5",
         "71837",
         "SUC.NAYA, GERMAN",
         "Munic. Santo Tomé",
         "59077.19",
         "45748",
         "45748",
         "45778",
         "45778"
        ],
        [
         "6",
         "76698",
         "ALMADA, MIGUEL ANGEL ",
         "Munic. Santo Tomé",
         "16503.7",
         "45748",
         "45748",
         "45778",
         "45778"
        ],
        [
         "7",
         "77441",
         "GIMENEZ, LUIS ALFREDO",
         "Munic. Santo Tomé",
         "20252.99",
         "45748",
         "45748",
         "45778",
         "45778"
        ],
        [
         "8",
         "77669",
         "CALISTO, JOSE OSCAR",
         "Munic. Santo Tomé",
         "18691.08",
         "45748",
         "45748",
         "45778",
         "45778"
        ],
        [
         "9",
         "78282",
         "FERNANDEZ, JUAN",
         "Munic. Santo Tomé",
         "18519.68",
         "45748",
         "45748",
         "45778",
         "45778"
        ],
        [
         "10",
         "78717",
         "GALVAN, RAQUEL JOSEFINA",
         "Munic. Santo Tomé",
         "31278.79",
         "45748",
         "45748",
         "45778",
         "45778"
        ],
        [
         "11",
         "78857",
         "AYALA, NORMA BEATRIZ",
         "Munic. Santo Tomé",
         "28458.94",
         "45748",
         "45748",
         "45778",
         "45778"
        ],
        [
         "12",
         "79157",
         "FLOREZ, HECTOR OSCAR",
         "Munic. Santo Tomé",
         "22077.95",
         "45748",
         "45748",
         "45778",
         "45778"
        ],
        [
         "13",
         "79556",
         "CABRAL, JUAN CARLOS ",
         "Munic. Santo Tomé",
         "24014.35",
         "45748",
         "45748",
         "45778",
         "45778"
        ],
        [
         "14",
         "16769",
         "SUC.ACUÑA ROQUE",
         "Munic. Santo Tomé",
         "61740.29",
         "45717",
         "45748",
         "45778",
         "45778"
        ],
        [
         "15",
         "79556",
         "CABRAL, JUAN CARLOS ",
         "Munic. Santo Tomé",
         "101492.7",
         "45717",
         "45748",
         "45778",
         "45778"
        ],
        [
         "16",
         "79157",
         "FLOREZ, HECTOR OSCAR",
         "Munic. Santo Tomé",
         "93308.85",
         "45717",
         "45748",
         "45778",
         "45778"
        ],
        [
         "17",
         "78857",
         "AYALA, NORMA BEATRIZ",
         "Munic. Santo Tomé",
         "120277.06",
         "45717",
         "45748",
         "45778",
         "45778"
        ],
        [
         "18",
         "78717",
         "GALVAN, RAQUEL JOSEFINA",
         "Munic. Santo Tomé",
         "132194.66",
         "45717",
         "45748",
         "45778",
         "45778"
        ],
        [
         "19",
         "78282",
         "FERNANDEZ, JUAN",
         "Munic. Santo Tomé",
         "78270.37",
         "45717",
         "45748",
         "45778",
         "45778"
        ],
        [
         "20",
         "77669",
         "CALISTO, JOSE OSCAR",
         "Munic. Santo Tomé",
         "78994.79",
         "45717",
         "45748",
         "45778",
         "45778"
        ],
        [
         "21",
         "76699",
         "GALES, RAUL SALVADOR",
         "Munic. Santo Tomé",
         "61163.83",
         "45717",
         "45748",
         "45778",
         "45778"
        ],
        [
         "22",
         "77441",
         "GIMENEZ, LUIS ALFREDO",
         "Munic. Santo Tomé",
         "85595.93",
         "45717",
         "45748",
         "45778",
         "45778"
        ],
        [
         "23",
         "75462",
         "INSAURRALDE, PEDRO NOLASCO",
         "Munic. Santo Tomé",
         "63691.08",
         "45717",
         "45748",
         "45778",
         "45778"
        ],
        [
         "24",
         "76698",
         "ALMADA, MIGUEL ANGEL ",
         "Munic. Santo Tomé",
         "69750.17",
         "45717",
         "45748",
         "45778",
         "45778"
        ],
        [
         "25",
         "61158",
         "ARAUJO, RAUL ELVIO",
         "Munic. Santo Tomé",
         "61270.76",
         "45717",
         "45748",
         "45778",
         "45778"
        ],
        [
         "26",
         "61161",
         "SANTAREM, JUAN CARLOS",
         "Munic. Santo Tomé",
         "64830.81",
         "45717",
         "45748",
         "45778",
         "45778"
        ],
        [
         "27",
         "71837",
         "SUC.NAYA, GERMAN",
         "Munic. Santo Tomé",
         "249680.07",
         "45717",
         "45748",
         "45778",
         "45778"
        ],
        [
         "28",
         "56815",
         "CORDOBES, MARIA ITATI",
         "Munic. Santo Tomé",
         "79006.06",
         "45717",
         "45748",
         "45778",
         "45778"
        ],
        [
         "29",
         "40136",
         "ARANDA, ROSA ISABEL",
         "Munic. Santo Tomé",
         "66701.36",
         "45717",
         "45748",
         "45778",
         "45778"
        ],
        [
         "30",
         "40962",
         "BORRA, LUCIA MABEL",
         "Munic. Santo Tomé",
         "484920.3",
         "45717",
         "45748",
         "45778",
         "45778"
        ],
        [
         "31",
         "36345",
         "SUC. BRANDAN, REGINALDO ANTONIO",
         "Munic. Santo Tomé",
         "464395.78",
         "45717",
         "45748",
         "45778",
         "45778"
        ],
        [
         "32",
         "34641",
         "AZAME,  PETRONA CATALINA",
         "Munic. Santo Tomé",
         "76397.78",
         "45717",
         "45748",
         "45778",
         "45778"
        ]
       ],
       "shape": {
        "columns": 8,
        "rows": 33
       }
      },
      "text/html": [
       "<div>\n",
       "<style scoped>\n",
       "    .dataframe tbody tr th:only-of-type {\n",
       "        vertical-align: middle;\n",
       "    }\n",
       "\n",
       "    .dataframe tbody tr th {\n",
       "        vertical-align: top;\n",
       "    }\n",
       "\n",
       "    .dataframe thead th {\n",
       "        text-align: right;\n",
       "    }\n",
       "</style>\n",
       "<table border=\"1\" class=\"dataframe\">\n",
       "  <thead>\n",
       "    <tr style=\"text-align: right;\">\n",
       "      <th></th>\n",
       "      <th>CONTROL</th>\n",
       "      <th>NOMBRE</th>\n",
       "      <th>REPARTICINO</th>\n",
       "      <th>CUOTA</th>\n",
       "      <th>RETRO_DESDE</th>\n",
       "      <th>RETRO_HASTA</th>\n",
       "      <th>APLICARDESDE</th>\n",
       "      <th>APLICARHASTA</th>\n",
       "    </tr>\n",
       "  </thead>\n",
       "  <tbody>\n",
       "    <tr>\n",
       "      <th>0</th>\n",
       "      <td>30340</td>\n",
       "      <td>ESQUIVEL TERESA</td>\n",
       "      <td>Munic. Santo Tomé</td>\n",
       "      <td>38353.00</td>\n",
       "      <td>45748</td>\n",
       "      <td>45748</td>\n",
       "      <td>45778</td>\n",
       "      <td>45778</td>\n",
       "    </tr>\n",
       "    <tr>\n",
       "      <th>1</th>\n",
       "      <td>34641</td>\n",
       "      <td>AZAME,  PETRONA CATALINA</td>\n",
       "      <td>Munic. Santo Tomé</td>\n",
       "      <td>18076.60</td>\n",
       "      <td>45748</td>\n",
       "      <td>45748</td>\n",
       "      <td>45778</td>\n",
       "      <td>45778</td>\n",
       "    </tr>\n",
       "    <tr>\n",
       "      <th>2</th>\n",
       "      <td>36345</td>\n",
       "      <td>SUC. BRANDAN, REGINALDO ANTONIO</td>\n",
       "      <td>Munic. Santo Tomé</td>\n",
       "      <td>109881.41</td>\n",
       "      <td>45748</td>\n",
       "      <td>45748</td>\n",
       "      <td>45778</td>\n",
       "      <td>45778</td>\n",
       "    </tr>\n",
       "    <tr>\n",
       "      <th>3</th>\n",
       "      <td>40962</td>\n",
       "      <td>BORRA, LUCIA MABEL</td>\n",
       "      <td>Munic. Santo Tomé</td>\n",
       "      <td>114737.75</td>\n",
       "      <td>45748</td>\n",
       "      <td>45748</td>\n",
       "      <td>45778</td>\n",
       "      <td>45778</td>\n",
       "    </tr>\n",
       "    <tr>\n",
       "      <th>4</th>\n",
       "      <td>56815</td>\n",
       "      <td>CORDOBES, MARIA ITATI</td>\n",
       "      <td>Munic. Santo Tomé</td>\n",
       "      <td>18693.75</td>\n",
       "      <td>45748</td>\n",
       "      <td>45748</td>\n",
       "      <td>45778</td>\n",
       "      <td>45778</td>\n",
       "    </tr>\n",
       "    <tr>\n",
       "      <th>5</th>\n",
       "      <td>71837</td>\n",
       "      <td>SUC.NAYA, GERMAN</td>\n",
       "      <td>Munic. Santo Tomé</td>\n",
       "      <td>59077.19</td>\n",
       "      <td>45748</td>\n",
       "      <td>45748</td>\n",
       "      <td>45778</td>\n",
       "      <td>45778</td>\n",
       "    </tr>\n",
       "    <tr>\n",
       "      <th>6</th>\n",
       "      <td>76698</td>\n",
       "      <td>ALMADA, MIGUEL ANGEL</td>\n",
       "      <td>Munic. Santo Tomé</td>\n",
       "      <td>16503.70</td>\n",
       "      <td>45748</td>\n",
       "      <td>45748</td>\n",
       "      <td>45778</td>\n",
       "      <td>45778</td>\n",
       "    </tr>\n",
       "    <tr>\n",
       "      <th>7</th>\n",
       "      <td>77441</td>\n",
       "      <td>GIMENEZ, LUIS ALFREDO</td>\n",
       "      <td>Munic. Santo Tomé</td>\n",
       "      <td>20252.99</td>\n",
       "      <td>45748</td>\n",
       "      <td>45748</td>\n",
       "      <td>45778</td>\n",
       "      <td>45778</td>\n",
       "    </tr>\n",
       "    <tr>\n",
       "      <th>8</th>\n",
       "      <td>77669</td>\n",
       "      <td>CALISTO, JOSE OSCAR</td>\n",
       "      <td>Munic. Santo Tomé</td>\n",
       "      <td>18691.08</td>\n",
       "      <td>45748</td>\n",
       "      <td>45748</td>\n",
       "      <td>45778</td>\n",
       "      <td>45778</td>\n",
       "    </tr>\n",
       "    <tr>\n",
       "      <th>9</th>\n",
       "      <td>78282</td>\n",
       "      <td>FERNANDEZ, JUAN</td>\n",
       "      <td>Munic. Santo Tomé</td>\n",
       "      <td>18519.68</td>\n",
       "      <td>45748</td>\n",
       "      <td>45748</td>\n",
       "      <td>45778</td>\n",
       "      <td>45778</td>\n",
       "    </tr>\n",
       "    <tr>\n",
       "      <th>10</th>\n",
       "      <td>78717</td>\n",
       "      <td>GALVAN, RAQUEL JOSEFINA</td>\n",
       "      <td>Munic. Santo Tomé</td>\n",
       "      <td>31278.79</td>\n",
       "      <td>45748</td>\n",
       "      <td>45748</td>\n",
       "      <td>45778</td>\n",
       "      <td>45778</td>\n",
       "    </tr>\n",
       "    <tr>\n",
       "      <th>11</th>\n",
       "      <td>78857</td>\n",
       "      <td>AYALA, NORMA BEATRIZ</td>\n",
       "      <td>Munic. Santo Tomé</td>\n",
       "      <td>28458.94</td>\n",
       "      <td>45748</td>\n",
       "      <td>45748</td>\n",
       "      <td>45778</td>\n",
       "      <td>45778</td>\n",
       "    </tr>\n",
       "    <tr>\n",
       "      <th>12</th>\n",
       "      <td>79157</td>\n",
       "      <td>FLOREZ, HECTOR OSCAR</td>\n",
       "      <td>Munic. Santo Tomé</td>\n",
       "      <td>22077.95</td>\n",
       "      <td>45748</td>\n",
       "      <td>45748</td>\n",
       "      <td>45778</td>\n",
       "      <td>45778</td>\n",
       "    </tr>\n",
       "    <tr>\n",
       "      <th>13</th>\n",
       "      <td>79556</td>\n",
       "      <td>CABRAL, JUAN CARLOS</td>\n",
       "      <td>Munic. Santo Tomé</td>\n",
       "      <td>24014.35</td>\n",
       "      <td>45748</td>\n",
       "      <td>45748</td>\n",
       "      <td>45778</td>\n",
       "      <td>45778</td>\n",
       "    </tr>\n",
       "    <tr>\n",
       "      <th>14</th>\n",
       "      <td>16769</td>\n",
       "      <td>SUC.ACUÑA ROQUE</td>\n",
       "      <td>Munic. Santo Tomé</td>\n",
       "      <td>61740.29</td>\n",
       "      <td>45717</td>\n",
       "      <td>45748</td>\n",
       "      <td>45778</td>\n",
       "      <td>45778</td>\n",
       "    </tr>\n",
       "    <tr>\n",
       "      <th>15</th>\n",
       "      <td>79556</td>\n",
       "      <td>CABRAL, JUAN CARLOS</td>\n",
       "      <td>Munic. Santo Tomé</td>\n",
       "      <td>101492.70</td>\n",
       "      <td>45717</td>\n",
       "      <td>45748</td>\n",
       "      <td>45778</td>\n",
       "      <td>45778</td>\n",
       "    </tr>\n",
       "    <tr>\n",
       "      <th>16</th>\n",
       "      <td>79157</td>\n",
       "      <td>FLOREZ, HECTOR OSCAR</td>\n",
       "      <td>Munic. Santo Tomé</td>\n",
       "      <td>93308.85</td>\n",
       "      <td>45717</td>\n",
       "      <td>45748</td>\n",
       "      <td>45778</td>\n",
       "      <td>45778</td>\n",
       "    </tr>\n",
       "    <tr>\n",
       "      <th>17</th>\n",
       "      <td>78857</td>\n",
       "      <td>AYALA, NORMA BEATRIZ</td>\n",
       "      <td>Munic. Santo Tomé</td>\n",
       "      <td>120277.06</td>\n",
       "      <td>45717</td>\n",
       "      <td>45748</td>\n",
       "      <td>45778</td>\n",
       "      <td>45778</td>\n",
       "    </tr>\n",
       "    <tr>\n",
       "      <th>18</th>\n",
       "      <td>78717</td>\n",
       "      <td>GALVAN, RAQUEL JOSEFINA</td>\n",
       "      <td>Munic. Santo Tomé</td>\n",
       "      <td>132194.66</td>\n",
       "      <td>45717</td>\n",
       "      <td>45748</td>\n",
       "      <td>45778</td>\n",
       "      <td>45778</td>\n",
       "    </tr>\n",
       "    <tr>\n",
       "      <th>19</th>\n",
       "      <td>78282</td>\n",
       "      <td>FERNANDEZ, JUAN</td>\n",
       "      <td>Munic. Santo Tomé</td>\n",
       "      <td>78270.37</td>\n",
       "      <td>45717</td>\n",
       "      <td>45748</td>\n",
       "      <td>45778</td>\n",
       "      <td>45778</td>\n",
       "    </tr>\n",
       "    <tr>\n",
       "      <th>20</th>\n",
       "      <td>77669</td>\n",
       "      <td>CALISTO, JOSE OSCAR</td>\n",
       "      <td>Munic. Santo Tomé</td>\n",
       "      <td>78994.79</td>\n",
       "      <td>45717</td>\n",
       "      <td>45748</td>\n",
       "      <td>45778</td>\n",
       "      <td>45778</td>\n",
       "    </tr>\n",
       "    <tr>\n",
       "      <th>21</th>\n",
       "      <td>76699</td>\n",
       "      <td>GALES, RAUL SALVADOR</td>\n",
       "      <td>Munic. Santo Tomé</td>\n",
       "      <td>61163.83</td>\n",
       "      <td>45717</td>\n",
       "      <td>45748</td>\n",
       "      <td>45778</td>\n",
       "      <td>45778</td>\n",
       "    </tr>\n",
       "    <tr>\n",
       "      <th>22</th>\n",
       "      <td>77441</td>\n",
       "      <td>GIMENEZ, LUIS ALFREDO</td>\n",
       "      <td>Munic. Santo Tomé</td>\n",
       "      <td>85595.93</td>\n",
       "      <td>45717</td>\n",
       "      <td>45748</td>\n",
       "      <td>45778</td>\n",
       "      <td>45778</td>\n",
       "    </tr>\n",
       "    <tr>\n",
       "      <th>23</th>\n",
       "      <td>75462</td>\n",
       "      <td>INSAURRALDE, PEDRO NOLASCO</td>\n",
       "      <td>Munic. Santo Tomé</td>\n",
       "      <td>63691.08</td>\n",
       "      <td>45717</td>\n",
       "      <td>45748</td>\n",
       "      <td>45778</td>\n",
       "      <td>45778</td>\n",
       "    </tr>\n",
       "    <tr>\n",
       "      <th>24</th>\n",
       "      <td>76698</td>\n",
       "      <td>ALMADA, MIGUEL ANGEL</td>\n",
       "      <td>Munic. Santo Tomé</td>\n",
       "      <td>69750.17</td>\n",
       "      <td>45717</td>\n",
       "      <td>45748</td>\n",
       "      <td>45778</td>\n",
       "      <td>45778</td>\n",
       "    </tr>\n",
       "    <tr>\n",
       "      <th>25</th>\n",
       "      <td>61158</td>\n",
       "      <td>ARAUJO, RAUL ELVIO</td>\n",
       "      <td>Munic. Santo Tomé</td>\n",
       "      <td>61270.76</td>\n",
       "      <td>45717</td>\n",
       "      <td>45748</td>\n",
       "      <td>45778</td>\n",
       "      <td>45778</td>\n",
       "    </tr>\n",
       "    <tr>\n",
       "      <th>26</th>\n",
       "      <td>61161</td>\n",
       "      <td>SANTAREM, JUAN CARLOS</td>\n",
       "      <td>Munic. Santo Tomé</td>\n",
       "      <td>64830.81</td>\n",
       "      <td>45717</td>\n",
       "      <td>45748</td>\n",
       "      <td>45778</td>\n",
       "      <td>45778</td>\n",
       "    </tr>\n",
       "    <tr>\n",
       "      <th>27</th>\n",
       "      <td>71837</td>\n",
       "      <td>SUC.NAYA, GERMAN</td>\n",
       "      <td>Munic. Santo Tomé</td>\n",
       "      <td>249680.07</td>\n",
       "      <td>45717</td>\n",
       "      <td>45748</td>\n",
       "      <td>45778</td>\n",
       "      <td>45778</td>\n",
       "    </tr>\n",
       "    <tr>\n",
       "      <th>28</th>\n",
       "      <td>56815</td>\n",
       "      <td>CORDOBES, MARIA ITATI</td>\n",
       "      <td>Munic. Santo Tomé</td>\n",
       "      <td>79006.06</td>\n",
       "      <td>45717</td>\n",
       "      <td>45748</td>\n",
       "      <td>45778</td>\n",
       "      <td>45778</td>\n",
       "    </tr>\n",
       "    <tr>\n",
       "      <th>29</th>\n",
       "      <td>40136</td>\n",
       "      <td>ARANDA, ROSA ISABEL</td>\n",
       "      <td>Munic. Santo Tomé</td>\n",
       "      <td>66701.36</td>\n",
       "      <td>45717</td>\n",
       "      <td>45748</td>\n",
       "      <td>45778</td>\n",
       "      <td>45778</td>\n",
       "    </tr>\n",
       "    <tr>\n",
       "      <th>30</th>\n",
       "      <td>40962</td>\n",
       "      <td>BORRA, LUCIA MABEL</td>\n",
       "      <td>Munic. Santo Tomé</td>\n",
       "      <td>484920.30</td>\n",
       "      <td>45717</td>\n",
       "      <td>45748</td>\n",
       "      <td>45778</td>\n",
       "      <td>45778</td>\n",
       "    </tr>\n",
       "    <tr>\n",
       "      <th>31</th>\n",
       "      <td>36345</td>\n",
       "      <td>SUC. BRANDAN, REGINALDO ANTONIO</td>\n",
       "      <td>Munic. Santo Tomé</td>\n",
       "      <td>464395.78</td>\n",
       "      <td>45717</td>\n",
       "      <td>45748</td>\n",
       "      <td>45778</td>\n",
       "      <td>45778</td>\n",
       "    </tr>\n",
       "    <tr>\n",
       "      <th>32</th>\n",
       "      <td>34641</td>\n",
       "      <td>AZAME,  PETRONA CATALINA</td>\n",
       "      <td>Munic. Santo Tomé</td>\n",
       "      <td>76397.78</td>\n",
       "      <td>45717</td>\n",
       "      <td>45748</td>\n",
       "      <td>45778</td>\n",
       "      <td>45778</td>\n",
       "    </tr>\n",
       "  </tbody>\n",
       "</table>\n",
       "</div>"
      ],
      "text/plain": [
       "    CONTROL                           NOMBRE        REPARTICINO     CUOTA  \\\n",
       "0     30340                 ESQUIVEL TERESA   Munic. Santo Tomé  38353.00   \n",
       "1     34641         AZAME,  PETRONA CATALINA  Munic. Santo Tomé  18076.60   \n",
       "2     36345  SUC. BRANDAN, REGINALDO ANTONIO  Munic. Santo Tomé 109881.41   \n",
       "3     40962               BORRA, LUCIA MABEL  Munic. Santo Tomé 114737.75   \n",
       "4     56815            CORDOBES, MARIA ITATI  Munic. Santo Tomé  18693.75   \n",
       "5     71837                 SUC.NAYA, GERMAN  Munic. Santo Tomé  59077.19   \n",
       "6     76698            ALMADA, MIGUEL ANGEL   Munic. Santo Tomé  16503.70   \n",
       "7     77441            GIMENEZ, LUIS ALFREDO  Munic. Santo Tomé  20252.99   \n",
       "8     77669              CALISTO, JOSE OSCAR  Munic. Santo Tomé  18691.08   \n",
       "9     78282                  FERNANDEZ, JUAN  Munic. Santo Tomé  18519.68   \n",
       "10    78717          GALVAN, RAQUEL JOSEFINA  Munic. Santo Tomé  31278.79   \n",
       "11    78857             AYALA, NORMA BEATRIZ  Munic. Santo Tomé  28458.94   \n",
       "12    79157             FLOREZ, HECTOR OSCAR  Munic. Santo Tomé  22077.95   \n",
       "13    79556             CABRAL, JUAN CARLOS   Munic. Santo Tomé  24014.35   \n",
       "14    16769                  SUC.ACUÑA ROQUE  Munic. Santo Tomé  61740.29   \n",
       "15    79556             CABRAL, JUAN CARLOS   Munic. Santo Tomé 101492.70   \n",
       "16    79157             FLOREZ, HECTOR OSCAR  Munic. Santo Tomé  93308.85   \n",
       "17    78857             AYALA, NORMA BEATRIZ  Munic. Santo Tomé 120277.06   \n",
       "18    78717          GALVAN, RAQUEL JOSEFINA  Munic. Santo Tomé 132194.66   \n",
       "19    78282                  FERNANDEZ, JUAN  Munic. Santo Tomé  78270.37   \n",
       "20    77669              CALISTO, JOSE OSCAR  Munic. Santo Tomé  78994.79   \n",
       "21    76699             GALES, RAUL SALVADOR  Munic. Santo Tomé  61163.83   \n",
       "22    77441            GIMENEZ, LUIS ALFREDO  Munic. Santo Tomé  85595.93   \n",
       "23    75462       INSAURRALDE, PEDRO NOLASCO  Munic. Santo Tomé  63691.08   \n",
       "24    76698            ALMADA, MIGUEL ANGEL   Munic. Santo Tomé  69750.17   \n",
       "25    61158               ARAUJO, RAUL ELVIO  Munic. Santo Tomé  61270.76   \n",
       "26    61161            SANTAREM, JUAN CARLOS  Munic. Santo Tomé  64830.81   \n",
       "27    71837                 SUC.NAYA, GERMAN  Munic. Santo Tomé 249680.07   \n",
       "28    56815            CORDOBES, MARIA ITATI  Munic. Santo Tomé  79006.06   \n",
       "29    40136              ARANDA, ROSA ISABEL  Munic. Santo Tomé  66701.36   \n",
       "30    40962               BORRA, LUCIA MABEL  Munic. Santo Tomé 484920.30   \n",
       "31    36345  SUC. BRANDAN, REGINALDO ANTONIO  Munic. Santo Tomé 464395.78   \n",
       "32    34641         AZAME,  PETRONA CATALINA  Munic. Santo Tomé  76397.78   \n",
       "\n",
       "    RETRO_DESDE  RETRO_HASTA  APLICARDESDE  APLICARHASTA  \n",
       "0         45748        45748         45778         45778  \n",
       "1         45748        45748         45778         45778  \n",
       "2         45748        45748         45778         45778  \n",
       "3         45748        45748         45778         45778  \n",
       "4         45748        45748         45778         45778  \n",
       "5         45748        45748         45778         45778  \n",
       "6         45748        45748         45778         45778  \n",
       "7         45748        45748         45778         45778  \n",
       "8         45748        45748         45778         45778  \n",
       "9         45748        45748         45778         45778  \n",
       "10        45748        45748         45778         45778  \n",
       "11        45748        45748         45778         45778  \n",
       "12        45748        45748         45778         45778  \n",
       "13        45748        45748         45778         45778  \n",
       "14        45717        45748         45778         45778  \n",
       "15        45717        45748         45778         45778  \n",
       "16        45717        45748         45778         45778  \n",
       "17        45717        45748         45778         45778  \n",
       "18        45717        45748         45778         45778  \n",
       "19        45717        45748         45778         45778  \n",
       "20        45717        45748         45778         45778  \n",
       "21        45717        45748         45778         45778  \n",
       "22        45717        45748         45778         45778  \n",
       "23        45717        45748         45778         45778  \n",
       "24        45717        45748         45778         45778  \n",
       "25        45717        45748         45778         45778  \n",
       "26        45717        45748         45778         45778  \n",
       "27        45717        45748         45778         45778  \n",
       "28        45717        45748         45778         45778  \n",
       "29        45717        45748         45778         45778  \n",
       "30        45717        45748         45778         45778  \n",
       "31        45717        45748         45778         45778  \n",
       "32        45717        45748         45778         45778  "
      ]
     },
     "execution_count": 164,
     "metadata": {},
     "output_type": "execute_result"
    }
   ],
   "source": [
    "calculos"
   ]
  },
  {
   "cell_type": "code",
   "execution_count": null,
   "metadata": {
    "jupyter": {
     "source_hidden": true
    }
   },
   "outputs": [],
   "source": []
  }
 ],
 "metadata": {
  "celltoolbar": "Tags",
  "kernelspec": {
   "display_name": ".venv",
   "language": "python",
   "name": "python3"
  },
  "language_info": {
   "codemirror_mode": {
    "name": "ipython",
    "version": 3
   },
   "file_extension": ".py",
   "mimetype": "text/x-python",
   "name": "python",
   "nbconvert_exporter": "python",
   "pygments_lexer": "ipython3",
   "version": "3.12.9"
  },
  "toc-showcode": false,
  "toc-showtags": false
 },
 "nbformat": 4,
 "nbformat_minor": 4
}
