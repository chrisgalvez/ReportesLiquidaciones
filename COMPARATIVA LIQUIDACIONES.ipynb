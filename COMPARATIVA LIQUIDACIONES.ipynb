{
 "cells": [
  {
   "cell_type": "markdown",
   "metadata": {
    "editable": true,
    "slideshow": {
     "slide_type": ""
    },
    "tags": []
   },
   "source": [
    "# CHEQUEOS POST LIQUIDACION"
   ]
  },
  {
   "cell_type": "markdown",
   "metadata": {
    "editable": true,
    "jp-MarkdownHeadingCollapsed": true,
    "slideshow": {
     "slide_type": ""
    },
    "tags": []
   },
   "source": [
    "#### Obtencion de Datos"
   ]
  },
  {
   "cell_type": "markdown",
   "metadata": {
    "tags": []
   },
   "source": [
    "### Importaciones"
   ]
  },
  {
   "cell_type": "code",
   "execution_count": null,
   "metadata": {
    "editable": true,
    "slideshow": {
     "slide_type": ""
    },
    "tags": []
   },
   "outputs": [],
   "source": [
    "from decouple import config\n",
    "import pyodbc as mssql\n",
    "import numpy as np\n",
    "import pandas as pd\n",
    "from datetime import datetime\n",
    "\n",
    "%config IPCompleter.greedy=True\n",
    "pd.set_option('display.float_format', lambda x: '%.2f' % x)\n",
    "from IPython.display import Markdown as md\n",
    "import xlsxwriter as xw\n",
    "\n",
    "import warnings\n",
    "warnings.filterwarnings('ignore')\n"
   ]
  },
  {
   "cell_type": "markdown",
   "metadata": {
    "editable": true,
    "slideshow": {
     "slide_type": ""
    },
    "tags": []
   },
   "source": [
    "#### Parámetros para el cálculo"
   ]
  },
  {
   "cell_type": "code",
   "execution_count": null,
   "metadata": {
    "editable": true,
    "jupyter": {
     "source_hidden": true
    },
    "slideshow": {
     "slide_type": ""
    },
    "tags": [
     "hide-input"
    ]
   },
   "outputs": [],
   "source": [
    "LIQUIDACION = config(\"LIQUIDACION\") #, default=\"{ye:0000}-{mo:0>2}\".format(ye=datetime.now().year, mo=datetime.now().month)) \n",
    "MINIMO_GENERAL = config(\"MINIMO_GENERAL\", 0.0, cast=float)\n",
    "MINIMO_POLICIAS = config(\"MINIMO_POLICIAS\", 0.0, cast=float)\n",
    "PROMEDIO_INCREMENTOS = config(\"INCREMENTO_MEDIO\", default=0.1, cast=float)\n",
    "EXCLUIR_REPARTICIONES_MINIMO_GARANTIZADO = [17, 26]\n",
    "\n",
    "codigos_bruto = ['0N','0P','RF','0Q','0S','0R','XX','MX','PC','QC','TC','U0','OC','LC','PX','YX','NX','MC','SP','PE','W1','W3','W5','W7','WC','WS','WI','WP','WV','WL','WD','WA','WT','WW','WE','WF','WU','WG','WH']\n",
    "\n"
   ]
  },
  {
   "cell_type": "code",
   "execution_count": null,
   "metadata": {
    "editable": true,
    "slideshow": {
     "slide_type": ""
    },
    "tags": []
   },
   "outputs": [],
   "source": []
  },
  {
   "cell_type": "code",
   "execution_count": null,
   "metadata": {
    "editable": true,
    "slideshow": {
     "slide_type": ""
    },
    "tags": []
   },
   "outputs": [],
   "source": [
    "# archivo de salida\n",
    "writer = pd.ExcelWriter(\"resultados/Resumen_actual_contra_\" + LIQUIDACION + \".xlsx\", \"xlsxwriter\")\n",
    "wb = writer.book\n",
    "\n",
    "formato_moneda = wb.add_format({'num_format': '$ #,##0.00'})\n",
    "formato_porcentaje = wb.add_format({'num_format': '#,##0.00 %'})\n",
    "formato_fecha = wb.add_format({'num_format': 'dd/mm/yyyy'})"
   ]
  },
  {
   "cell_type": "code",
   "execution_count": null,
   "metadata": {
    "editable": true,
    "slideshow": {
     "slide_type": ""
    },
    "tags": []
   },
   "outputs": [],
   "source": [
    "SERVER = config(\"SERVIDOR\", \"IPSBD\") #\"IPSBD\"\n",
    "conn = mssql.connect(f\"DRIVER={{SQL SERVER}};SERVER={SERVER};DATABASE=LIQUIDACION;;Trusted_Connection=Yes;\")"
   ]
  },
  {
   "cell_type": "markdown",
   "metadata": {
    "tags": []
   },
   "source": [
    "#### Obtención de la fecha de alta de la liquidacion seleccionada"
   ]
  },
  {
   "cell_type": "code",
   "execution_count": null,
   "metadata": {
    "jupyter": {
     "source_hidden": true
    },
    "tags": []
   },
   "outputs": [],
   "source": [
    "from datetime import datetime\n",
    "altas_desde = ''\n",
    "altas_desde = pd.read_sql(f\"\"\"SELECT create_date FROM SYS.DATABASES\n",
    "WHERE NAME like '%{LIQUIDACION}%'\"\"\",conn)[\"create_date\"][0].strftime('%d/%m/%Y')"
   ]
  },
  {
   "cell_type": "markdown",
   "metadata": {
    "tags": []
   },
   "source": [
    "#### Obtención de Datos Generales"
   ]
  },
  {
   "cell_type": "code",
   "execution_count": null,
   "metadata": {
    "jupyter": {
     "source_hidden": true
    },
    "tags": []
   },
   "outputs": [],
   "source": [
    "codigos = pd.read_sql( \"SELECT * FROM CODIGOS\", conn, index_col=\"CODIGO\")\n",
    "reparticion = pd.read_sql( \"SELECT * FROM REPARTICION\", conn, index_col=\"Cod\" )\n",
    "tipos_beneficio = pd.read_sql ( \"SELECT * FROM BENEFICIO\", conn, index_col=\"Cod\" )\n",
    "codigos_bruto_minimo = pd.read_sql(\"SELECT CODIGO FROM CODIGOS WHERE TIPO='C' AND BRUTO_MINIMO=1\", conn)\n",
    "codigos_minimo = codigos_bruto_minimo[\"CODIGO\"]\n",
    "\n",
    "### \n",
    "### Auditorias desde la fecha de creacion de la liquidacion de referencia\n",
    "### para ser excluidas de la comparativa, por ser casos de \"desvio\" a los generales\n",
    "### \n",
    "auditorias = pd.read_sql( \"\"\"SELECT CONTROL FROM AUDIT A WHERE A.ORIGEN='D' AND \n",
    "A.FECHA > CONVERT(int, CONVERT(datetime, '{altas_desde}'))+2\"\"\".format(altas_desde=altas_desde), conn, index_col=\"CONTROL\")\n",
    "\n",
    "beneficios = pd.read_sql( \"\"\"SELECT CONTROL, PLLA, ORDEN, AFILIADO, BENEFICIO, COD_BENEFICIO, LETRA,\n",
    "CASE WHEN COD_BENEFICIO in (7,25,27,29) then DBO.PORCENTAJE_COMPARTIDA(CONTROL) ELSE 1 END AS PORCENTAJE\n",
    "FROM Liquidacion.dbo.DatosAfiliado\n",
    "WHERE HABILITADO='S'\"\"\", conn, index_col=\"CONTROL\")\n",
    "beneficios[[\"COD_BENEFICIO\"]]=beneficios[[\"COD_BENEFICIO\"]].astype(\"int64\")\n",
    "\n",
    "### Excluímos las auditorias de altas y modificaciones para evitar las \"deformaciones\"\n",
    "beneficios_sin_altas = beneficios[~beneficios.index.isin(auditorias.index)]\n",
    "\n",
    "liquidacion_ben = pd.read_sql(\"\"\" SELECT * FROM LIQUIDACION.DBO.LIQUIDACION\"\"\", conn, index_col=[\"PLLA\", \"ORDEN\", \"AFILIADO\"])\n",
    "beneficios_liq = pd.read_sql(\"SELECT * FROM [{liquidacion}].DBO.DATOSAFILIADO\".format(liquidacion=LIQUIDACION), \\\n",
    "                             conn, index_col=[\"CONTROL\"])\n",
    "liquidacion_liq = pd.read_sql(\"SELECT * FROM [{liquidacion}].DBO.LIQUIDACION\".format(liquidacion=LIQUIDACION), \\\n",
    "                                conn, index_col=[\"PLLA\", \"ORDEN\", \"AFILIADO\"])\n",
    "\n"
   ]
  },
  {
   "cell_type": "markdown",
   "metadata": {
    "tags": []
   },
   "source": [
    "### Determinacion de brutos"
   ]
  },
  {
   "cell_type": "markdown",
   "metadata": {
    "tags": []
   },
   "source": [
    "#### Determinacion de los brutos actuales"
   ]
  },
  {
   "cell_type": "code",
   "execution_count": null,
   "metadata": {
    "jupyter": {
     "source_hidden": true
    },
    "tags": []
   },
   "outputs": [],
   "source": [
    "### determinacion de la tabla de brutos de liquidacion activa\n",
    "brutos_act = beneficios_sin_altas.reset_index().merge(liquidacion_ben, left_on=[\"PLLA\", \"ORDEN\", \"AFILIADO\"],\\\n",
    "                              right_on=[\"PLLA\", \"ORDEN\", \"AFILIADO\"])\n",
    "brutos_act = brutos_act[brutos_act[\"CODIGO\"].isin(codigos_bruto)].groupby([\"CONTROL\"]).sum(\"MONTO\")[[\"MONTO\"]]\n",
    "# agrego aquellos que no tienen codigos de bruto\n",
    "brutos_act = brutos_act.join(beneficios_sin_altas,  how=\"outer\")\n",
    "brutos_act[\"MONTO\"].fillna(value=0.0, inplace=True)\n",
    "brutos_act[\"BRUTO\"] = brutos_act[\"MONTO\"] + brutos_act[\"BENEFICIO\"]\n",
    "# dejo solo la columna del bruto recien calculada\n",
    "brutos_act=brutos_act[[\"BRUTO\",\"BENEFICIO\", \"COD_BENEFICIO\", \"LETRA\"]]"
   ]
  },
  {
   "cell_type": "markdown",
   "metadata": {
    "tags": []
   },
   "source": [
    "#### Determinación de los brutos de referencia"
   ]
  },
  {
   "cell_type": "code",
   "execution_count": null,
   "metadata": {
    "jupyter": {
     "source_hidden": true
    },
    "tags": []
   },
   "outputs": [],
   "source": [
    "###determinacion de la tabla de brutos de la liquidacion de referencia \n",
    "brutos_liq = beneficios_liq.join(liquidacion_liq, on=[\"PLLA\",\"ORDEN\",\"AFILIADO\"],how=\"inner\", rsuffix=\".LIQ\")\\\n",
    "        .join(codigos, on=[\"CODIGO\"], how=\"inner\", rsuffix=\".COD\")\n",
    "#brutos_liq = brutos_liq[brutos_liq[\"CODIGO\"].isin(codigos_bruto)].groupby(by=\"CONTROL\").sum()[[\"MONTO\"]]\n",
    "\n",
    "brutos_liq.drop(columns=[\"CONTROL\"], axis=1, inplace=True)\n",
    "brutos_liq = brutos_liq[brutos_liq[\"CODIGO\"].isin(codigos_bruto)].groupby(by=\"CONTROL\").sum(\"MONTO\")\n"
   ]
  },
  {
   "cell_type": "code",
   "execution_count": null,
   "metadata": {
    "jupyter": {
     "source_hidden": true
    }
   },
   "outputs": [],
   "source": [
    "brutos_liq = brutos_liq.join(beneficios_liq, on=\"CONTROL\", how=\"outer\", lsuffix=\"br_l\" )\n",
    "brutos_liq[\"MONTO\"].fillna(value=0.0, inplace=True)\n",
    "brutos_liq[\"BRUTO\"] = brutos_liq[\"MONTO\"] + brutos_liq[\"BENEFICIO\"]\n",
    "\n",
    "brutos_liq=brutos_liq[[\"CONTROL\", \"BRUTO\", \"BENEFICIO\"]]\n",
    "brutos_liq.set_index(keys=\"CONTROL\", inplace=True)\n",
    "brutos_liq=brutos_liq.sort_values(by=\"CONTROL\")"
   ]
  },
  {
   "cell_type": "markdown",
   "metadata": {
    "tags": []
   },
   "source": [
    "### Comparativa de Brutos y Beneficios"
   ]
  },
  {
   "cell_type": "code",
   "execution_count": null,
   "metadata": {
    "jupyter": {
     "source_hidden": true
    },
    "tags": []
   },
   "outputs": [],
   "source": [
    "###  comparativa \n",
    "\n",
    "brutos = brutos_liq.join( brutos_act, lsuffix=\"_liq\", rsuffix=\"_act\" )\n",
    "brutos[\"DIF_BRUTOS\"] = (brutos[\"BRUTO_act\"]-brutos[\"BRUTO_liq\"])/brutos[\"BRUTO_liq\"]\n",
    "brutos[\"DIF_BENEFICIOS\"] = (brutos[\"BENEFICIO_act\"]-brutos[\"BENEFICIO_liq\"])/brutos[\"BENEFICIO_liq\"]\n",
    "diferencia_brutos=brutos.loc[(brutos[\"DIF_BRUTOS\"] > 0.0) | \\\n",
    "                             (brutos[\"DIF_BENEFICIOS\"] > 0.0), [\"LETRA\", \"COD_BENEFICIO\", \"DIF_BRUTOS\",\"DIF_BENEFICIOS\", ]] \\\n",
    "                            .sort_values(by=\"DIF_BRUTOS\", ascending=False)\n",
    "diferencia_brutos=diferencia_brutos.astype({ 'LETRA' : 'int32', 'COD_BENEFICIO' : 'int32'})\n",
    "diferencia_brutos=diferencia_brutos.join(reparticion, on=\"LETRA\", how=\"inner\", lsuffix=\".db\", rsuffix=\".rep\")\n",
    "diferencia_brutos=diferencia_brutos.join(tipos_beneficio, on=\"COD_BENEFICIO\", how=\"inner\", lsuffix=\".db\", rsuffix=\".tb\")\n",
    "diferencia_brutos=diferencia_brutos[[\"Detalle.db\", \"Detalle.tb\", \"DIF_BRUTOS\", \"DIF_BENEFICIOS\" ]] \\\n",
    "    .rename(columns={\"Detalle.db\":\"Reparticion\", \"Detalle.tb\":\"Tipo_Beneficio\"})\n",
    "diferencia_brutos=diferencia_brutos.sort_values([\"Reparticion\", \"Tipo_Beneficio\"])\n",
    "\n",
    "diferencia_brutos.to_excel(writer, \"Diferencia Brutos\",startrow=0, header=True, index=True)\n",
    "\n",
    "\n",
    "(max_row, max_col)= diferencia_brutos.shape\n",
    "column_settings = []\n",
    "column_settings = np.append(column_settings, {'header': \"CONTROL\"})\n",
    "column_settings = np.append(column_settings, [{'header': column} for column in diferencia_brutos.columns])\n",
    "\n",
    "worksheet = writer.sheets[\"Diferencia Brutos\"]\n",
    "worksheet.add_table(0, 0, max_row+1, max_col, {'columns': column_settings, 'autofilter': False, \\\n",
    "                                             'banded_rows': False, \"style\": None})\n",
    "\n",
    "worksheet.set_column(\"A:A\", 8)\n",
    "worksheet.set_column(\"B:C\", 35)\n",
    "worksheet.set_column(\"D:E\", 15, formato_porcentaje )\n",
    "\n"
   ]
  },
  {
   "cell_type": "markdown",
   "metadata": {},
   "source": [
    "#### Diferencia por reparticion"
   ]
  },
  {
   "cell_type": "code",
   "execution_count": null,
   "metadata": {
    "jupyter": {
     "source_hidden": true
    }
   },
   "outputs": [],
   "source": [
    "### POR REPARTICION ###\n",
    "\n",
    "inf_rep_letra = brutos.merge(reparticion, left_on=\"LETRA\", right_on=\"Cod\", how=\"inner\")\n",
    "inf_rep_letra = inf_rep_letra[['Detalle', 'BRUTO_liq', 'BENEFICIO_liq', 'BRUTO_act', 'BENEFICIO_act']].groupby(by=\"Detalle\")\\\n",
    "                    .agg({'Detalle':'count', 'BRUTO_liq': 'sum', \"BRUTO_act\": \"sum\", \"BENEFICIO_liq\": \"sum\", \"BENEFICIO_act\": \"sum\"})\n",
    "inf_rep_letra[\"DIF_BRUTOS\"] = (inf_rep_letra[\"BRUTO_act\"]-inf_rep_letra[\"BRUTO_liq\"])/inf_rep_letra[\"BRUTO_liq\"]\n",
    "inf_rep_letra[\"DIF_BENEFICIOS\"] = (inf_rep_letra[\"BENEFICIO_act\"] - inf_rep_letra[\"BENEFICIO_liq\"])/inf_rep_letra[\"BENEFICIO_liq\"]\n",
    "inf_rep_letra=inf_rep_letra[(inf_rep_letra[\"DIF_BRUTOS\"]>0.01) | (inf_rep_letra[\"DIF_BENEFICIOS\"]>0.01)]\n",
    "inf_rep_letra=inf_rep_letra.rename(columns={\"Detalle\":\"Cantidad\"})\n",
    "\n",
    "inf_rep_letra.to_excel(writer, \"Dif Brutos Por Rep\")\n",
    "\n",
    "(max_row, max_col)= inf_rep_letra.shape\n",
    "\n",
    "column_settings = []\n",
    "column_settings = np.append(column_settings, {'header': \"Reparticion\"})\n",
    "column_settings = np.append(column_settings, [{'header': column} \n",
    "    for column in  inf_rep_letra.columns])\n",
    "\n",
    "worksheet = writer.sheets[\"Dif Brutos Por Rep\"]\n",
    "worksheet.add_table(0, 0, max_row, max_col, {'columns': column_settings, \n",
    "                                        'autofilter': False, \\\n",
    "                                        'banded_rows': False, \"style\": None})\n",
    "\n",
    "worksheet.set_column(\"A:A\", 35)\n",
    "worksheet.set_column(\"B:B\", 10)\n",
    "worksheet.set_column(\"C:F\", 20, formato_moneda)\n",
    "worksheet.set_column(\"G:H\", 20, formato_porcentaje )\n",
    "\n"
   ]
  },
  {
   "cell_type": "markdown",
   "metadata": {
    "tags": []
   },
   "source": [
    "### Mínimos"
   ]
  },
  {
   "cell_type": "markdown",
   "metadata": {
    "tags": []
   },
   "source": [
    "#### Mínimos Administración Central y Organismos"
   ]
  },
  {
   "cell_type": "code",
   "execution_count": null,
   "metadata": {
    "jupyter": {
     "source_hidden": true
    },
    "tags": []
   },
   "outputs": [],
   "source": [
    "minimos_liq = liquidacion_liq[liquidacion_liq[\"CODIGO\"].isin(codigos_minimo)]\\\n",
    "    .groupby(by=[\"PLLA\",\"ORDEN\",\"AFILIADO\"]).agg({'MONTO':'sum', 'CODIGO': lambda x: ', '.join(x.astype(str))})\n"
   ]
  },
  {
   "cell_type": "code",
   "execution_count": null,
   "metadata": {},
   "outputs": [],
   "source": [
    "\n",
    "brutos_minimo = beneficios_liq.join(minimos_liq, on=[\"PLLA\",\"ORDEN\",\"AFILIADO\"],how=\"left\", rsuffix=\".LIQ\").\\\n",
    "    join(beneficios, on=[\"CONTROL\"], how=\"inner\", rsuffix=\".BENEF\")\n",
    "        "
   ]
  },
  {
   "cell_type": "code",
   "execution_count": null,
   "metadata": {},
   "outputs": [],
   "source": [
    "brutos_minimo.fillna(0.0, inplace = True)\n",
    "brutos_minimo.loc[brutos_minimo[\"BENEFICIO\"] + brutos_minimo[\"MONTO\"] < MINIMO_GENERAL * brutos_minimo[\"PORCENTAJE\"], \n",
    "                  \"ZX_NUEVO\"] = round((MINIMO_GENERAL * brutos_minimo[\"PORCENTAJE\"]) - brutos_minimo[\"BENEFICIO\"] - brutos_minimo[\"MONTO\"],2)\n",
    "\n",
    "    "
   ]
  },
  {
   "cell_type": "code",
   "execution_count": null,
   "metadata": {},
   "outputs": [],
   "source": [
    "minimos_actuales = liquidacion_liq[liquidacion_liq[\"CODIGO\"].isin(['ZX'])]\n",
    "\n",
    "brutos_minimo = brutos_minimo.join(minimos_actuales, on=[\"PLLA\",\"ORDEN\",\"AFILIADO\"],how=\"inner\", rsuffix=\".MIN_ACT\")\n",
    "\n",
    "minimos_ac = brutos_minimo[[ \"PLLA\", \"ORDEN\",\"AFILIADO\", \"MONTO\", \"CODIGO\", \"ZX_NUEVO\", \"MONTO.MIN_ACT\"]]\n",
    "\n"
   ]
  },
  {
   "cell_type": "code",
   "execution_count": null,
   "metadata": {},
   "outputs": [],
   "source": [
    "minimos_ac[abs(minimos_ac[\"ZX_NUEVO\"]-minimos_ac[\"MONTO.MIN_ACT\"]) > 1.0]"
   ]
  },
  {
   "cell_type": "markdown",
   "metadata": {
    "tags": []
   },
   "source": [
    "#### Mínimos Retiros Policiales y Carcelarios"
   ]
  },
  {
   "cell_type": "code",
   "execution_count": null,
   "metadata": {
    "jupyter": {
     "source_hidden": true
    }
   },
   "outputs": [],
   "source": [
    "#minimos[(minimos[\"Minimo\"] >= 2500) & (minimos[\"Minimo\"] <= 2502.5)]"
   ]
  },
  {
   "cell_type": "code",
   "execution_count": null,
   "metadata": {
    "jupyter": {
     "source_hidden": true
    },
    "tags": [
     "hide-input"
    ]
   },
   "outputs": [],
   "source": [
    "# minimos = beneficios.join( beneficios_liq, on=\"CONTROL\", lsuffix=\".BEN\", rsuffix=\".BENLIQ\" )\\\n",
    "#             .join(reparticion, on=\"LETRA\" , rsuffix=\".REP\", )\\\n",
    "#             .join(brutos, on=\"CONTROL\", rsuffix=\".BRT\")\\\n",
    "#             .join(tipos_beneficio, on=\"COD_BENEFICIO\", rsuffix=\".tb\")\n",
    "            \n",
    "\n",
    "# minimos[minimos[\"BRUTO_act\"] < minimo_policias]\n",
    "# minimos[\"PX_act\"] = np.where((minimos[\"LETRA\"].isin([17,26]) & (minimos[\"BRUTO_act\"] < minimo_policias*minimos[\"PORCENTAJE\"])), minimo_policias*minimos[\"PORCENTAJE\"]-minimos[\"BRUTO_act\"], 0.0)\n",
    "# minimos.fillna(0, inplace=True)\n",
    "\n",
    "# minimos_pagados = beneficios_liq.join(liquidacion_liq, on=[\"PLLA\",\"ORDEN\",\"AFILIADO\"],how=\"inner\", rsuffix=\".LIQ\")\\\n",
    "#         .join(codigos, on=[\"CODIGO\"], how=\"inner\", rsuffix=\".COD\")\n",
    "\n",
    "# minimos_pagados=minimos_pagados.loc[minimos_pagados[\"CODIGO\"].isin(['PX']), [\"MONTO\"]]\\\n",
    "#         .groupby(\"CONTROL\").sum(\"MONTO\")\n",
    "\n",
    "# minimos=minimos.join(minimos_pagados, on=\"CONTROL\", rsuffix=\".MINPAG\").rename(columns={\"MONTO\":\"PX_liq\", \"Detalle\":\"Reparticion\", \"Detalle.tb\":\"TIPO_BEN\"})\n",
    "# minimos.fillna(0.0, inplace=True)\n",
    "\n",
    "# minimos=minimos.loc[(np.abs(minimos[\"PX_act\"]-minimos[\"PX_liq\"])>1)  ,[\"Reparticion\", \"TIPO_BEN\", \"BRUTO_act\", \"PX_act\", \"BRUTO_liq\", \"PX_liq\"]]\n",
    "\n",
    "# #minimos.to_excel(writer, \"Minimos Retiros Policiales\")\n",
    "\n"
   ]
  },
  {
   "cell_type": "markdown",
   "metadata": {
    "tags": []
   },
   "source": [
    "## Retroactivos\n"
   ]
  },
  {
   "cell_type": "code",
   "execution_count": null,
   "metadata": {
    "jupyter": {
     "source_hidden": true
    }
   },
   "outputs": [],
   "source": [
    "calculos = pd.read_sql(\"\"\"SELECT D.CONTROL, D.NOMBRE, R.DETALLE AS REPARTICINO, DC.VALOR CUOTA, DC.FINI RETRO_DESDE, \n",
    "            DC.FFIN RETRO_HASTA, APLICARDESDE, APLICARHASTA\n",
    "            FROM DATOSAFILIADO D INNER JOIN\n",
    "            CALCULOS C ON C.CONTROL=D.CONTROL\n",
    "            INNER JOIN DATCALCULOS DC ON DC.CODLIQ=C.CODLIQ\n",
    "            INNER JOIN REPARTICION R ON R.COD=D.LETRA\n",
    "            INNER JOIN PLANES P ON P.CODLIQ=C.CODLIQ\n",
    "            WHERE MONTH(CONVERT(DATETIME, C.FECHA+2))=MONTH(GETDATE()) AND YEAR(CONVERT(DATETIME, C.FECHA+2))=YEAR(GETDATE())\n",
    "            AND USUARIO = 'SISTEMAS'\"\"\", conn)\n",
    "\n",
    "calculos.to_excel(writer, \"Retroactivos_incrementos\")\n",
    "\n",
    "ws = writer.sheets[\"Retroactivos_incrementos\"]\n",
    "ws.set_column(\"E:H\", 15, formato_fecha )\n"
   ]
  },
  {
   "cell_type": "markdown",
   "metadata": {
    "tags": []
   },
   "source": [
    "## Cerrar archivo excel y guardar"
   ]
  },
  {
   "cell_type": "code",
   "execution_count": null,
   "metadata": {
    "jupyter": {
     "source_hidden": true
    }
   },
   "outputs": [],
   "source": [
    "### Guardado y cierre del archivo excel\n",
    "writer.close()"
   ]
  },
  {
   "cell_type": "code",
   "execution_count": null,
   "metadata": {
    "jupyter": {
     "source_hidden": true
    }
   },
   "outputs": [],
   "source": [
    "calculos"
   ]
  },
  {
   "cell_type": "code",
   "execution_count": null,
   "metadata": {
    "jupyter": {
     "source_hidden": true
    }
   },
   "outputs": [],
   "source": []
  }
 ],
 "metadata": {
  "celltoolbar": "Tags",
  "kernelspec": {
   "display_name": ".venv",
   "language": "python",
   "name": "python3"
  },
  "language_info": {
   "codemirror_mode": {
    "name": "ipython",
    "version": 3
   },
   "file_extension": ".py",
   "mimetype": "text/x-python",
   "name": "python",
   "nbconvert_exporter": "python",
   "pygments_lexer": "ipython3",
   "version": "3.12.9"
  },
  "toc-showcode": false,
  "toc-showtags": false
 },
 "nbformat": 4,
 "nbformat_minor": 4
}
